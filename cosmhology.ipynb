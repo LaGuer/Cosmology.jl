{
 "cells": [
  {
   "cell_type": "markdown",
   "metadata": {},
   "source": [
    "# Cosmology.jl"
   ]
  },
  {
   "cell_type": "markdown",
   "metadata": {},
   "source": [
    "Jupyter Notebook for cosmology.jl: Change the kernel to Julia Kernel. Select it from the Kernel Menu."
   ]
  },
  {
   "cell_type": "markdown",
   "metadata": {},
   "source": [
    "# Run this section inside Julia kernel"
   ]
  },
  {
   "cell_type": "code",
   "execution_count": 1,
   "metadata": {},
   "outputs": [
    {
     "name": "stdout",
     "output_type": "stream",
     "text": [
      "\u001b[32m\u001b[1m    Status\u001b[22m\u001b[39m `/srv/julia/pkg/environments/v0.7/Project.toml`\n",
      " \u001b[90m [7073ff75]\u001b[39m\u001b[37m IJulia v1.20.2\u001b[39m\n",
      " \u001b[90m [1fd47b50]\u001b[39m\u001b[37m QuadGK v2.3.1\u001b[39m\n",
      " \u001b[90m [1986cc42]\u001b[39m\u001b[37m Unitful v0.12.0\u001b[39m\n",
      " \u001b[90m [6112ee07]\u001b[39m\u001b[37m UnitfulAstro v0.2.0\u001b[39m\n"
     ]
    }
   ],
   "source": [
    "# Check if package is installed\n",
    "import Pkg; Pkg.status()"
   ]
  },
  {
   "cell_type": "code",
   "execution_count": null,
   "metadata": {},
   "outputs": [],
   "source": [
    "# Clone the Cosmology.jl package\n",
    "import Pkg; Pkg.clone(\"https://github.com/LaGuer/Cosmology.jl.git\")"
   ]
  },
  {
   "cell_type": "code",
   "execution_count": null,
   "metadata": {},
   "outputs": [],
   "source": [
    "import Pkg; Pkg.instantiate()"
   ]
  },
  {
   "cell_type": "code",
   "execution_count": null,
   "metadata": {},
   "outputs": [],
   "source": [
    "import Pkg; Pkg.update()"
   ]
  },
  {
   "cell_type": "code",
   "execution_count": 5,
   "metadata": {},
   "outputs": [],
   "source": [
    "# Pkg.add(\"Cosmology\")"
   ]
  },
  {
   "cell_type": "code",
   "execution_count": 6,
   "metadata": {},
   "outputs": [
    {
     "name": "stderr",
     "output_type": "stream",
     "text": [
      "┌ Info: Precompiling Cosmology [76746363-e552-5dba-9a5a-cef6fa9cc5ab]\n",
      "└ @ Base loading.jl:1187\n"
     ]
    }
   ],
   "source": [
    "using Cosmology "
   ]
  },
  {
   "cell_type": "code",
   "execution_count": 42,
   "metadata": {},
   "outputs": [
    {
     "data": {
      "text/plain": [
       "Cosmology.FlatLCDM{Float64}(0.7079, 0.6999165470916852, 0.3, 8.345290831484895e-5)"
      ]
     },
     "execution_count": 42,
     "metadata": {},
     "output_type": "execute_result"
    }
   ],
   "source": [
    "C = cosmology()"
   ]
  },
  {
   "cell_type": "code",
   "execution_count": 43,
   "metadata": {},
   "outputs": [
    {
     "data": {
      "text/plain": [
       "13.311876832294882 Gyr"
      ]
     },
     "execution_count": 43,
     "metadata": {},
     "output_type": "execute_result"
    }
   ],
   "source": [
    "age(C, 0)"
   ]
  },
  {
   "cell_type": "code",
   "execution_count": 44,
   "metadata": {},
   "outputs": [
    {
     "data": {
      "text/plain": [
       "Cosmology.OpenLCDM{Float64}(0.7079, 0.1, 0.5999165470916853, 0.3, 8.345290831484895e-5)"
      ]
     },
     "execution_count": 44,
     "metadata": {},
     "output_type": "execute_result"
    }
   ],
   "source": [
    "C = cosmology(OmegaK=0.1)"
   ]
  },
  {
   "cell_type": "code",
   "execution_count": 14,
   "metadata": {},
   "outputs": [
    {
     "data": {
      "text/plain": [
       "12.911439353675439 Gyr"
      ]
     },
     "execution_count": 14,
     "metadata": {},
     "output_type": "execute_result"
    }
   ],
   "source": [
    "age(C, 0)"
   ]
  },
  {
   "cell_type": "code",
   "execution_count": 40,
   "metadata": {},
   "outputs": [
    {
     "data": {
      "text/plain": [
       "Cosmology.ClosedWCDM{Float64}(0.7079, -0.1, 0.7999165470916852, 0.3, 8.345290831484895e-5, -0.9, 0.0)"
      ]
     },
     "execution_count": 40,
     "metadata": {},
     "output_type": "execute_result"
    }
   ],
   "source": [
    "C = cosmology(w0=-0.9, OmegaK=-0.1)"
   ]
  },
  {
   "cell_type": "code",
   "execution_count": 41,
   "metadata": {},
   "outputs": [
    {
     "data": {
      "text/plain": [
       "13.484804131094544 Gyr"
      ]
     },
     "execution_count": 41,
     "metadata": {},
     "output_type": "execute_result"
    }
   ],
   "source": [
    "age(C, 0)"
   ]
  },
  {
   "cell_type": "code",
   "execution_count": 19,
   "metadata": {},
   "outputs": [
    {
     "data": {
      "text/plain": [
       "Cosmology.FlatLCDM{Float64}(0.7079, 0.7299165470916852, 0.27, 8.345290831484895e-5)"
      ]
     },
     "execution_count": 19,
     "metadata": {},
     "output_type": "execute_result"
    }
   ],
   "source": [
    "C = cosmology(OmegaM=0.27)"
   ]
  },
  {
   "cell_type": "code",
   "execution_count": 20,
   "metadata": {},
   "outputs": [
    {
     "data": {
      "text/plain": [
       "13.705983172937254 Gyr"
      ]
     },
     "execution_count": 20,
     "metadata": {},
     "output_type": "execute_result"
    }
   ],
   "source": [
    "age(C, 0)"
   ]
  },
  {
   "cell_type": "code",
   "execution_count": 23,
   "metadata": {},
   "outputs": [
    {
     "data": {
      "text/plain": [
       "1663.4663847718539 Mpc"
      ]
     },
     "execution_count": 23,
     "metadata": {},
     "output_type": "execute_result"
    }
   ],
   "source": [
    "angular_diameter_dist(C, 1)"
   ]
  },
  {
   "cell_type": "code",
   "execution_count": 27,
   "metadata": {},
   "outputs": [
    {
     "data": {
      "text/plain": [
       "3326.9327695437078 Mpc"
      ]
     },
     "execution_count": 27,
     "metadata": {},
     "output_type": "execute_result"
    }
   ],
   "source": [
    "comoving_radial_dist(C, 1)"
   ]
  },
  {
   "cell_type": "code",
   "execution_count": 28,
   "metadata": {},
   "outputs": [
    {
     "data": {
      "text/plain": [
       "154.24840559055747 Gpc^3"
      ]
     },
     "execution_count": 28,
     "metadata": {},
     "output_type": "execute_result"
    }
   ],
   "source": [
    "comoving_volume(C, 1)"
   ]
  },
  {
   "cell_type": "code",
   "execution_count": 29,
   "metadata": {},
   "outputs": [
    {
     "data": {
      "text/plain": [
       "6653.8655390874155 Mpc"
      ]
     },
     "execution_count": 29,
     "metadata": {},
     "output_type": "execute_result"
    }
   ],
   "source": [
    "luminosity_dist(C, 1)"
   ]
  },
  {
   "cell_type": "code",
   "execution_count": 35,
   "metadata": {},
   "outputs": [
    {
     "data": {
      "text/plain": [
       "Cosmology.FlatLCDM{Float64}(0.7079, 0.7299165470916852, 0.27, 8.345290831484895e-5)"
      ]
     },
     "execution_count": 35,
     "metadata": {},
     "output_type": "execute_result"
    }
   ],
   "source": [
    "C = cosmology(OmegaM=0.27)"
   ]
  },
  {
   "cell_type": "code",
   "execution_count": 36,
   "metadata": {},
   "outputs": [
    {
     "data": {
      "text/plain": [
       "13.705983172937254 Gyr"
      ]
     },
     "execution_count": 36,
     "metadata": {},
     "output_type": "execute_result"
    }
   ],
   "source": [
    "age(C, 0)"
   ]
  },
  {
   "cell_type": "code",
   "execution_count": 38,
   "metadata": {},
   "outputs": [
    {
     "data": {
      "text/plain": [
       "6653.8655390874155 Mpc"
      ]
     },
     "execution_count": 38,
     "metadata": {},
     "output_type": "execute_result"
    }
   ],
   "source": [
    "luminosity_dist(C, 1)"
   ]
  },
  {
   "cell_type": "code",
   "execution_count": 39,
   "metadata": {},
   "outputs": [
    {
     "data": {
      "text/plain": [
       "44.1153701021242"
      ]
     },
     "execution_count": 39,
     "metadata": {},
     "output_type": "execute_result"
    }
   ],
   "source": [
    "distmod(C, 1)"
   ]
  },
  {
   "cell_type": "code",
   "execution_count": 45,
   "metadata": {},
   "outputs": [
    {
     "data": {
      "text/plain": [
       "Cosmology.OpenLCDM{Float64}(0.7079, 0.1, 0.5999165470916853, 0.3, 8.345290831484895e-5)"
      ]
     },
     "execution_count": 45,
     "metadata": {},
     "output_type": "execute_result"
    }
   ],
   "source": [
    "C = cosmology(OmegaK=0.1)"
   ]
  },
  {
   "cell_type": "code",
   "execution_count": 46,
   "metadata": {},
   "outputs": [
    {
     "data": {
      "text/plain": [
       "12.911439353675439 Gyr"
      ]
     },
     "execution_count": 46,
     "metadata": {},
     "output_type": "execute_result"
    }
   ],
   "source": [
    "age(C, 0)"
   ]
  },
  {
   "cell_type": "code",
   "execution_count": 47,
   "metadata": {},
   "outputs": [
    {
     "data": {
      "text/plain": [
       "Cosmology.FlatWCDM{Float64}(0.7079, 0.0, 0.7, 0.3, 0.0, -0.9, 0.1)"
      ]
     },
     "execution_count": 47,
     "metadata": {},
     "output_type": "execute_result"
    }
   ],
   "source": [
    "#C = cosmology(w0=-0.9, OmegaK=-0.1)\n",
    "# c = cosmology(h=0.7, OmegaK=-0.1, OmegaM=0.3, OmegaR=0, w0=-0.9, wa=0.1)\n",
    "C = cosmology(h=0.7079, OmegaM=0.3, OmegaR=0, w0=-0.9, wa=0.1)"
   ]
  },
  {
   "cell_type": "code",
   "execution_count": 48,
   "metadata": {},
   "outputs": [
    {
     "data": {
      "text/plain": [
       "13.042271462027319 Gyr"
      ]
     },
     "execution_count": 48,
     "metadata": {},
     "output_type": "execute_result"
    }
   ],
   "source": [
    "age(C, 0)"
   ]
  },
  {
   "cell_type": "code",
   "execution_count": 49,
   "metadata": {},
   "outputs": [
    {
     "data": {
      "text/plain": [
       "Cosmology.FlatWCDM{BigFloat}(7.07899999999999973709918776876293122768402099609375e-01, 0.0, 6.999999999999999555910790149937383830547332763671875e-01, 2.99999999999999988897769753748434595763683319091796875e-01, 0.0, -9.0000000000000002220446049250313080847263336181640625e-01, 1.000000000000000055511151231257827021181583404541015625e-01)"
      ]
     },
     "execution_count": 49,
     "metadata": {},
     "output_type": "execute_result"
    }
   ],
   "source": [
    "c = cosmology(h=big(0.7079), OmegaM=0.3, OmegaR=0, w0=-0.9, wa=0.1)"
   ]
  },
  {
   "cell_type": "code",
   "execution_count": 50,
   "metadata": {},
   "outputs": [
    {
     "data": {
      "text/plain": [
       "1.304227146202732023586112767332675257612795424515085289479484034823174898083907e+01 Gyr"
      ]
     },
     "execution_count": 50,
     "metadata": {},
     "output_type": "execute_result"
    }
   ],
   "source": [
    "age(c, 0)"
   ]
  },
  {
   "cell_type": "code",
   "execution_count": 54,
   "metadata": {},
   "outputs": [
    {
     "data": {
      "text/plain": [
       "70.78999999999999 km Mpc^-1 s^-1"
      ]
     },
     "execution_count": 54,
     "metadata": {},
     "output_type": "execute_result"
    }
   ],
   "source": [
    "H(c,0)"
   ]
  },
  {
   "cell_type": "code",
   "execution_count": 52,
   "metadata": {},
   "outputs": [
    {
     "data": {
      "text/plain": [
       "Cosmology.FlatWCDM{Float64}(0.7079, 0.0, 0.75, 0.25, 0.0, -0.9, 0.1)"
      ]
     },
     "execution_count": 52,
     "metadata": {},
     "output_type": "execute_result"
    }
   ],
   "source": [
    "c = cosmology(h=0.7079, OmegaM=0.25, OmegaR=0, w0=-0.9, wa=0.1)"
   ]
  },
  {
   "cell_type": "code",
   "execution_count": 53,
   "metadata": {},
   "outputs": [
    {
     "data": {
      "text/plain": [
       "13.662816076764386 Gyr"
      ]
     },
     "execution_count": 53,
     "metadata": {},
     "output_type": "execute_result"
    }
   ],
   "source": [
    "age(c, 0)"
   ]
  },
  {
   "cell_type": "code",
   "execution_count": null,
   "metadata": {},
   "outputs": [],
   "source": []
  },
  {
   "cell_type": "markdown",
   "metadata": {},
   "source": [
    "# Cosmology.jl with nbodykit"
   ]
  },
  {
   "cell_type": "markdown",
   "metadata": {},
   "source": [
    "# Run this section inside a Python Kernel"
   ]
  },
  {
   "cell_type": "markdown",
   "metadata": {},
   "source": [
    "## nbodykit\n",
    "\n",
    "https://github.com/bccp/nbodykit"
   ]
  },
  {
   "cell_type": "markdown",
   "metadata": {},
   "source": [
    "In Python mode run:\n",
    "\n",
    "conda install -c bccp nbodykit\n"
   ]
  },
  {
   "cell_type": "code",
   "execution_count": null,
   "metadata": {},
   "outputs": [],
   "source": [
    "#!pip install xelatex\n",
    "!pip install matplotlib"
   ]
  },
  {
   "cell_type": "code",
   "execution_count": null,
   "metadata": {},
   "outputs": [],
   "source": [
    "conda install -c bccp nbodykit"
   ]
  },
  {
   "cell_type": "code",
   "execution_count": null,
   "metadata": {},
   "outputs": [],
   "source": [
    "conda list"
   ]
  },
  {
   "cell_type": "code",
   "execution_count": 7,
   "metadata": {
    "nbsphinx": "hidden"
   },
   "outputs": [],
   "source": [
    "# this cell is hidden by metadata\n",
    "from nbodykit import style\n",
    "import matplotlib.pyplot as plt\n",
    "plt.style.use(style.notebook)"
   ]
  },
  {
   "cell_type": "raw",
   "metadata": {
    "raw_mimetype": "text/restructuredtext"
   },
   "source": [
    ".. _cosmology:\n",
    "\n",
    "Cosmological Calculations\n",
    "=========================\n",
    "\n",
    "The :mod:`nbodykit.cosmology` module includes functionality for\n",
    "representing cosmological parameter sets and computing various\n",
    "theoretical quantities prevalent in large-scale structure that depend\n",
    "on the background cosmological model. The module relies on the\n",
    "`CLASS CMB Boltzmann code <http://class-code.net>`_ as the underlying\n",
    "engine for its cosmological calculations via the Python wrapper\n",
    "provided by the :mod:`classylss` package. For consistency, the cosmology\n",
    "syntax used in nbodykit largely follows that of the CLASS code. A useful\n",
    "set of links for reference material on CLASS is available\n",
    "`here <http://classylss.readthedocs.io/en/stable/class-docs.html>`_.\n",
    "\n",
    ".. currentmodule:: nbodykit.cosmology\n",
    "\n",
    "\n",
    "The :class:`Cosmology` class\n",
    "----------------------------\n",
    "\n",
    "nbodykit provides the :class:`~cosmology.Cosmology`\n",
    "class for representing cosmological parameter sets. Given an input set of\n",
    "parameters, this class uses the CLASS code to evaluate various quantities\n",
    "relevant to large-scale structure. The class can compute background quantities,\n",
    "such as distances, as a function of redshift, as well as linear and nonlinear\n",
    "power spectra and transfer functions.\n",
    "\n",
    "..  note::\n",
    "\n",
    "  For a full list of the attributes and\n",
    "  functions available, please see the :ref:`API docs <api-cosmology>`.\n",
    "  \n",
    "The CLASS code supports multiple sets of input parameters, e.g., the user\n",
    "can specify ``H0`` or ``h``. For simplicity, we use the following parameters\n",
    "to initialize a :class:`~cosmology.Cosmology` object:\n",
    "\n",
    "* ``h`` : the dimensionless Hubble parameter\n",
    "* ``T0_cmb`` : the temperature of the CMB in Kelvins\n",
    "* ``Omega0_b`` : the current baryon density parameter, :math:`\\Omega_{b,0}`\n",
    "* ``Omega0_cdm`` : the current cold dark matter density parameter, :math:`\\Omega_{cdm,0}`\n",
    "* ``N_ur`` : the number of ultra-relativistic (massless neutrino) species\n",
    "* ``m_ncdm`` : the masses (in eV) for all massive neutrino species\n",
    "* ``P_k_max`` : the maximum wavenumber to compute power spectrum results to, in units\n",
    "  of :math:`h \\mathrm{Mpc}^{-1}`\n",
    "* ``P_z_max`` : the maximum redshift to compute power spectrum results to\n",
    "* ``gauge`` : the General Relativity gauge, either \"synchronous\" or \"newtonian\"\n",
    "* ``n_s`` : the tilt of the primordial power spectrum\n",
    "* ``nonlinear`` : whether to compute nonlinear power spectrum results via `HaloFit`_\n",
    "\n",
    "Any valid CLASS parameters can be additionally specified as keywords to the\n",
    ":class:`~cosmology.Cosmology` constructor. If these additional parameters\n",
    "conflict with the base set of parameters above, an exception will be raised.\n",
    "For a guide to the valid input CLASS parameters, the \"`explanatory.ini`_\"\n",
    "parameter file in the CLASS GitHub is a good place to start.\n",
    "\n",
    "**Notes and Caveats**\n",
    "\n",
    "* The default configuration assumes a flat cosmology, :math:`\\Omega_{k,0}=0`.\n",
    "  Pass ``Omega0_k`` as a keyword to specify the desired non-flat curvature.\n",
    "* By default, the value for ``N_ur`` is inferred from the number of massive\n",
    "  neutrinos using the following logic: if you have respectively 1,2,3 massive\n",
    "  neutrinos and use the default ``T_ncdm`` value (0.71611 K), which is\n",
    "  designed to give m/omega of 93.14 eV, and you wish to have ``N_eff=3.046`` in\n",
    "  the early universe, then ``N_ur`` is set to 2.0328, 1.0196, 0.00641,\n",
    "  respectively.\n",
    "* For consistency of variable names, the present day values can be passed\n",
    "  with or without the \"0\" postfix, e.g., ``Omega0_cdm`` is translated to\n",
    "  ``Omega_cdm`` as CLASS always uses the names without \"0\" as input\n",
    "  parameters.\n",
    "* By default, a cosmological constant (``Omega0_lambda``) is assumed, with\n",
    "  its density value inferred by the curvature condition.\n",
    "* Non-cosmological constant dark energy can be used by specifying the\n",
    "  ``w0_fld``, ``wa_fld``, and/or ``Omega0_fld`` values.\n",
    "* To pass in CLASS parameters that are not valid Python argument names, use\n",
    "  the dictionary/keyword arguments trick, e.g.,\n",
    "  ``Cosmology(..., **{'temperature contributions': 'y'})``\n",
    "\n",
    "Builtin Cosmologies\n",
    "^^^^^^^^^^^^^^^^^^^\n",
    "\n",
    "We include several builtin cosmologies for users, accessible from the :mod:`nbodykit.cosmology` module:\n",
    "\n",
    ".. include:: ../api/builtin-cosmos.rst\n",
    "\n",
    "Updating cosmological parameters\n",
    "^^^^^^^^^^^^^^^^^^^^^^^^^^^^^^^^\n",
    "\n",
    "The :class:`Cosmology` class is immutable. To update cosmological parameters,\n",
    "we provide the following functions:\n",
    "\n",
    "* :func:`~cosmology.Cosmology.clone`: provides a new :class:`Cosmology` object\n",
    "  with only the specified parameters changed; this function accepts any keyword\n",
    "  parameters that can be passed to the :class:`Cosmology` constructor\n",
    "* :func:`~cosmology.Cosmology.match`: provides a new :class:`Cosmology` object\n",
    "  that has matched a specific, derived parameter value. The derived parameters\n",
    "  that can be matched include:\n",
    "\n",
    "  - ``sigma8``: re-scale the scalar amplitude ``A_s`` to match ``sigma8``\n",
    "  - ``Omega0_cb``: match the total sum of cdm and baryons density, :math:`\\Omega_{cdm,0}+\\Omega_{b,0}`\n",
    "  - ``Omega0_m``: match the total density of matter-like components,\n",
    "    :math:`\\Omega_{cdm,0}+\\Omega_{b,0}+\\Omega_{ncdm,0}-\\Omega_{pncdm,0}+\\Omega_{dcdm,0}`\n",
    "    \n",
    "For example, we can match a specific ``sigma8`` value using:"
   ]
  },
  {
   "cell_type": "raw",
   "metadata": {
    "raw_mimetype": "text/latex"
   },
   "source": [
    "$\\Omega_{cdm,0}+\\Omega_{b,0}+\\Omega_{ncdm,0}-\\Omega_{pncdm,0}+\\Omega_{dcdm,0}$"
   ]
  },
  {
   "cell_type": "code",
   "execution_count": 8,
   "metadata": {},
   "outputs": [
    {
     "name": "stdout",
     "output_type": "stream",
     "text": [
      "original sigma8 = 0.8380\n",
      "new sigma8 = 0.8200\n"
     ]
    }
   ],
   "source": [
    "from nbodykit.lab import cosmology\n",
    "\n",
    "cosmo = cosmology.Cosmology()\n",
    "print(\"original sigma8 = %.4f\" % cosmo.sigma8)\n",
    "\n",
    "new_cosmo = cosmo.match(sigma8=0.82)\n",
    "print(\"new sigma8 = %.4f\" % new_cosmo.sigma8)"
   ]
  },
  {
   "cell_type": "raw",
   "metadata": {
    "raw_mimetype": "text/restructuredtext"
   },
   "source": [
    "And we can clone a :class:`Cosmology` using h=0.7079, T0_cmb=2.725820831 from `Back to Cosmos, 2019`_"
   ]
  },
  {
   "cell_type": "markdown",
   "metadata": {},
   "source": [
    "And we can clone a :class:`Cosmology` using h=0.7079, T0_cmb=2.725820831 values taken from [Back to Cosmos, 2019](http://rxiv.org/abs/1904.0218) as described by [Kritov](https://books.google.com/books?id=6TI7DwAAQBAJ) and J.Maruani in [The Dirac Electron and Elementary Interactions: The Gyromagnetic Factor, Fine-Structure Constant, and Gravitational Invariant: Deviations from Whole Numbers](https://link.springer.com/chapter/10.1007/978-3-319-74582-4_19)"
   ]
  },
  {
   "cell_type": "code",
   "execution_count": 9,
   "metadata": {},
   "outputs": [],
   "source": [
    "# Let's set h=0.7079, T_cmb=2.725820831 as in http://rxiv.org/abs/1904.0218\n",
    "cosmo = cosmo.clone(h=0.7079, T_cmb=2.725820831, nonlinear=True)"
   ]
  },
  {
   "cell_type": "raw",
   "metadata": {
    "raw_mimetype": "text/restructuredtext"
   },
   "source": [
    "Converting to a dictionary\n",
    "^^^^^^^^^^^^^^^^^^^^^^^^^^\n",
    "\n",
    "The keyword parameters passed to the constructor of a :class:`Cosmology` object are not passed directly to the underlying CLASS engine, but must be edited first to be compatible with CLASS. Users can access the full set of parameters passed directly to CLASS by converting the :class:`Cosmology` object to a dict. This can be accomplished simply using:"
   ]
  },
  {
   "cell_type": "code",
   "execution_count": 10,
   "metadata": {},
   "outputs": [
    {
     "name": "stdout",
     "output_type": "stream",
     "text": [
      "{'output': 'vTk dTk mPk', 'extra metric transfer functions': 'y', 'N_ur': 2.0328, 'gauge': 'synchronous', 'n_s': 0.9667, 'Omega_cdm': 0.26377065934278865, 'Omega_b': 0.0482754208891869, 'N_ncdm': 1, 'P_k_max_h/Mpc': 10.0, 'z_max_pk': 100.0, 'h': 0.7079, 'T_cmb': 2.725820831, 'm_ncdm': [0.06], 'non linear': 'halofit'}\n"
     ]
    }
   ],
   "source": [
    "cosmo_dict = dict(cosmo)\n",
    "print(cosmo_dict)"
   ]
  },
  {
   "cell_type": "raw",
   "metadata": {
    "raw_mimetype": "text/restructuredtext"
   },
   "source": [
    "Each of the parameters in this dictionary are valid CLASS parameters. For example, we see that the CLASS parameter \"non linear\" has been set to \"halofit\", since we have set the ``nonlinear`` parameter to be ``True``. \n",
    "\n",
    ".. note::\n",
    "    To create a new :class:`Cosmology` object from a dictionary, users should use \n",
    "    ``Cosmology.from_dict(dict(c))``. Because of the differences in syntax between the :class:`Cosmology` constructor\n",
    "    and CLASS, the following will not work: ``Cosmology(**dict(c))``.\n",
    "    \n",
    "Interfacing with :mod:`astropy`\n",
    "^^^^^^^^^^^^^^^^^^^^^^^^^^^^^^^\n",
    "\n",
    "We provide some comptability for interfacing with the :mod:`astropy.cosmology` module. The following functions\n",
    "of the :func:`~cosmology.Cosmology` class allow users to convert between the nbodykit and :mod:`astropy` cosmology\n",
    "implementations:\n",
    "\n",
    ".. autosummary::\n",
    "\n",
    "    ~cosmology.Cosmology.to_astropy\n",
    "    ~cosmology.Cosmology.from_astropy\n",
    "    \n",
    "We also provide support for some of the syntax used by :mod:`astropy` for attributes in its cosmology classes by aliasing the :mod:`astropy` names to the appropriate nbodykit attributes. For example, \n",
    "\n",
    ".. autosummary::\n",
    "    \n",
    "   ~classylss.astropy_compat.AstropyCompat.Om0\n",
    "   ~classylss.astropy_compat.AstropyCompat.Odm0\n",
    "   ~classylss.astropy_compat.AstropyCompat.Ode0\n",
    "   ~classylss.astropy_compat.AstropyCompat.Ob0\n",
    "\n",
    ".. warning::\n",
    "\n",
    "    The conversion between :mod:`astropy` and nbodykit cosmology objects is not one-to-one, as the classes are\n",
    "    implemented using different underlying engines. For example, the neutrino calculations performed in nbodykit \n",
    "    using CLASS differ from those in :mod:`astropy`. We have attempted to provide as  much compatibility as possible, \n",
    "    but these differences will always remain when converting between the two implementations."
   ]
  },
  {
   "cell_type": "raw",
   "metadata": {
    "collapsed": true,
    "raw_mimetype": "text/restructuredtext"
   },
   "source": [
    "Theoretical Power Spectra\n",
    "-------------------------\n",
    "\n",
    "Linear power\n",
    "^^^^^^^^^^^^\n",
    "\n",
    "The linear power spectrum can be computed for a given :class:`Cosmology` and redshift using the :class:`~power.linear.LinearPower` class. This object can compute the linear power spectrum using one of \n",
    "several transfer functions: \n",
    "\n",
    "- \"CLASS\": calls CLASS to evaluate the total density transfer function at the specified redshift\n",
    "- \"EisensteinHu\": uses the analytic transfer function from `Eisenstein & Hu, 1998`_\n",
    "- \"NoWiggleEisensteinHu\": uses the no-BAO analytic transfer function from `Eisenstein & Hu, 1998`_\n",
    "\n",
    "The :class:`~power.linear.LinearPower` object is a callable function, taking wavenumber in units of :math:`h \\mathrm{Mpc}^{-1}` as input:"
   ]
  },
  {
   "cell_type": "code",
   "execution_count": 11,
   "metadata": {},
   "outputs": [
    {
     "data": {
      "image/png": "[encoded data removed]",
      "text/plain": [
       "<Figure size 432x288 with 1 Axes>"
      ]
     },
     "metadata": {
      "needs_background": "light"
     },
     "output_type": "display_data"
    }
   ],
   "source": [
    "import matplotlib.pyplot as plt\n",
    "import numpy as np\n",
    "\n",
    "c = cosmology.Planck15\n",
    "Plin = cosmology.LinearPower(c, redshift=0., transfer='CLASS')\n",
    "\n",
    "k = np.logspace(-3, 0, 100)\n",
    "plt.loglog(k, Plin(k), c='k')\n",
    "\n",
    "plt.xlabel(r\"$k$ $[h \\mathrm{Mpc}^{-1}]$\")\n",
    "plt.ylabel(r\"$P$ $[h^{-3} \\mathrm{Mpc}^{3}]$\")\n",
    "plt.show()"
   ]
  },
  {
   "cell_type": "raw",
   "metadata": {
    "raw_mimetype": "text/restructuredtext"
   },
   "source": [
    "The redshift and power spectrum normalization can easily be updated by adjusting the ``redshift`` and ``sigma8`` attributes of the :class:`~power.linear.LinearPower` instance. For example,"
   ]
  },
  {
   "cell_type": "code",
   "execution_count": 12,
   "metadata": {},
   "outputs": [
    {
     "data": {
      "image/png": "[encoded data removed]",
      "text/plain": [
       "<Figure size 432x288 with 1 Axes>"
      ]
     },
     "metadata": {
      "needs_background": "light"
     },
     "output_type": "display_data"
    }
   ],
   "source": [
    "# original power\n",
    "plt.loglog(k, Plin(k), label=r\"$z=0, \\sigma_8=%.2f$\" % Plin.sigma8)\n",
    "\n",
    "# update the redshift and sigma8\n",
    "Plin.redshift = 0.55\n",
    "Plin.sigma8 = 0.80\n",
    "plt.loglog(k, Plin(k), label=r\"$z=0.55, \\sigma_8=0.8$\")\n",
    "\n",
    "# format the axes\n",
    "plt.legend()\n",
    "plt.xlabel(r\"$k$ $[h \\mathrm{Mpc}^{-1}]$\")\n",
    "plt.ylabel(r\"$P$ $[h^{-3} \\mathrm{Mpc}^{3}]$\")\n",
    "plt.show()"
   ]
  },
  {
   "cell_type": "raw",
   "metadata": {
    "raw_mimetype": "text/restructuredtext"
   },
   "source": [
    "Nonlinear and Zel'dovich power\n",
    "^^^^^^^^^^^^^^^^^^^^^^^^^^^^^^\n",
    "\n",
    "We also provide the :class:`~power.halofit.HalofitPower` and :class:`~power.zeldovich.ZeldovichPower` classes to compute the nonlinear and Zel'dovich power spectra, respectively. The nonlinear power uses the `HaloFit`_ prescription that is available in CLASS. These objects behavior very similarly to the :class:`~power.linear.LinearPower` class. \n",
    "For example, "
   ]
  },
  {
   "cell_type": "code",
   "execution_count": 13,
   "metadata": {},
   "outputs": [
    {
     "name": "stderr",
     "output_type": "stream",
     "text": [
      "/srv/conda/envs/notebook/lib/python3.7/site-packages/mcfit/mcfit.py:125: UserWarning: The default value of lowring has been changed to False, set it to True if you cannot reproduce previous results\n",
      "  warnings.warn(\"The default value of lowring has been changed to False, \"\n",
      "/srv/conda/envs/notebook/lib/python3.7/site-packages/mcfit/mcfit.py:219: UserWarning: The default value of extrap has been changed to False, set it to True if you cannot reproduce previous results\n",
      "  warnings.warn(\"The default value of extrap has been changed to False, \"\n"
     ]
    },
    {
     "data": {
      "image/png": "[encoded data removed]",
      "text/plain": [
       "<Figure size 432x288 with 1 Axes>"
      ]
     },
     "metadata": {
      "needs_background": "light"
     },
     "output_type": "display_data"
    }
   ],
   "source": [
    "# initialize the power objects\n",
    "Plin = cosmology.LinearPower(c, redshift=0, transfer='CLASS')\n",
    "Pnl = cosmology.HalofitPower(c, redshift=0)\n",
    "Pzel = cosmology.ZeldovichPower(c, redshift=0)\n",
    "\n",
    "# plot each kind\n",
    "plt.loglog(k, Plin(k), label='linear')\n",
    "plt.loglog(k, Pnl(k), label='nonlinear')\n",
    "plt.loglog(k, Pzel(k), label=\"Zel'dovich\")\n",
    "\n",
    "# format the axes\n",
    "plt.legend()\n",
    "plt.xlabel(r\"$k$ $[h \\mathrm{Mpc}^{-1}]$\")\n",
    "plt.ylabel(r\"$P$ $[h^{-3} \\mathrm{Mpc}^{3}]$\")\n",
    "plt.show()"
   ]
  },
  {
   "cell_type": "raw",
   "metadata": {
    "raw_mimetype": "text/restructuredtext"
   },
   "source": [
    "Correlation functions\n",
    "---------------------\n",
    "\n",
    "nbodykit also includes functionality for computing theoretical correlation functions by computing the Fourier transform of a power spectrum. We use the `mcfit`_ package, which provides a Python version of the `FFTLog`_ algorithm. The main class to compute correlation functions is :class:`~correlation.CorrelationFunction`. This class\n",
    "takes a power spectrum instance (one of :class:`~power.linear.LinearPower`, :class:`~power.halofit.HalofitPower`, \n",
    "or :class:`~power.zeldovich.ZeldovichPower`) as input. Below, we show the correlation function for each of these classes: "
   ]
  },
  {
   "cell_type": "code",
   "execution_count": 14,
   "metadata": {},
   "outputs": [
    {
     "data": {
      "image/png": "[encoded data removed]",
      "text/plain": [
       "<Figure size 432x288 with 1 Axes>"
      ]
     },
     "metadata": {
      "needs_background": "light"
     },
     "output_type": "display_data"
    }
   ],
   "source": [
    "# initialize the correlation objects\n",
    "cf_lin = cosmology.CorrelationFunction(Plin)\n",
    "cf_nl = cosmology.CorrelationFunction(Pnl)\n",
    "cf_zel = cosmology.CorrelationFunction(Pzel)\n",
    "\n",
    "# plot each kind\n",
    "r = np.logspace(-1, np.log10(150), 1000)\n",
    "plt.plot(r, r**2 * cf_lin(r), label='linear')\n",
    "plt.plot(r, r**2 * cf_nl(r), label='nonlinear')\n",
    "plt.plot(r, r**2 * cf_zel(r), label=\"Zel'dovich\")\n",
    "\n",
    "# format the axes\n",
    "plt.legend()\n",
    "plt.xlabel(r\"$r$ $[h^{-1} \\mathrm{Mpc}]$\")\n",
    "plt.ylabel(r\"$r^2 \\xi \\ [h^{-2} \\mathrm{Mpc}^2]$\")\n",
    "plt.show()"
   ]
  },
  {
   "cell_type": "raw",
   "metadata": {
    "raw_mimetype": "text/restructuredtext"
   },
   "source": [
    "We also include utility functions for performing the $P(k) \\leftrightarrow \\xi(r)$ transformation: \n",
    "\n",
    ".. autosummary::\n",
    "\n",
    "    ~correlation.xi_to_pk\n",
    "    ~correlation.pk_to_xi\n",
    "    \n",
    "These functions take discretely evaluated :math:`(r, \\xi(r))` or :math:`(k, P(k))` arrays and return a function that evaluates the appropriate transformed quantity. "
   ]
  },
  {
   "cell_type": "raw",
   "metadata": {
    "raw_mimetype": "text/restructuredtext"
   },
   "source": [
    ".. _Halofit: https://arxiv.org/abs/1208.2701\n",
    ".. _explanatory.ini: https://cdn.rawgit.com/lesgourg/class_public/master/explanatory.ini\n",
    ".. _Eisenstein & Hu, 1998: https://arxiv.org/abs/astro-ph/9709112\n",
    ".. _FFTLog: http://casa.colorado.edu/~ajsh/FFTLog/\n",
    ".. _DiracElectron: https://link.springer.com/chapter/10.1007/978-3-319-74582-4_19\n",
    ".. _Back to Cosmos, 2019: http://rxiv.org/abs/1904.0218\n",
    ".. _Kritov: https://books.google.com/books?id=6TI7DwAAQBAJ\n",
    ".. _mcfit: https://github.com/eelregit/mcfit"
   ]
  }
 ],
 "metadata": {
  "celltoolbar": "Raw Cell Format",
  "kernelspec": {
   "display_name": "Python 3",
   "language": "python",
   "name": "python3"
  },
  "language_info": {
   "codemirror_mode": {
    "name": "ipython",
    "version": 3
   },
   "file_extension": ".py",
   "mimetype": "text/x-python",
   "name": "python",
   "nbconvert_exporter": "python",
   "pygments_lexer": "ipython3",
   "version": "3.7.3"
  }
 },
 "nbformat": 4,
 "nbformat_minor": 2
}
