{
 "cells": [
  {
   "cell_type": "markdown",
   "metadata": {},
   "source": [
    "# Cosmology.jl"
   ]
  },
  {
   "cell_type": "markdown",
   "metadata": {},
   "source": [
    "Run rhis section with Julia kernel"
   ]
  },
  {
   "cell_type": "code",
   "execution_count": 10,
   "metadata": {},
   "outputs": [
    {
     "name": "stdout",
     "output_type": "stream",
     "text": [
      "\u001b[32m\u001b[1m    Status\u001b[22m\u001b[39m `/srv/julia/pkg/environments/v0.7/Project.toml`\n",
      " \u001b[90m [7073ff75]\u001b[39m\u001b[37m IJulia v1.18.1\u001b[39m\n",
      " \u001b[90m [1fd47b50]\u001b[39m\u001b[37m QuadGK v2.0.3\u001b[39m\n",
      " \u001b[90m [1986cc42]\u001b[39m\u001b[37m Unitful v0.12.0\u001b[39m\n",
      " \u001b[90m [6112ee07]\u001b[39m\u001b[37m UnitfulAstro v0.2.0\u001b[39m\n",
      "\u001b[31m→\u001b[39m\u001b[90m [876351f3]\u001b[39m\u001b[37m cosmology v0.0.0 [`/srv/julia/pkg/dev/cosmology`]\u001b[39m\n"
     ]
    },
    {
     "name": "stderr",
     "output_type": "stream",
     "text": [
      "┌ Warning: Some packages (indicated with a red arrow) are not downloaded, use `instantiate` to instantiate the current environment\n",
      "└ @ Pkg.Display /buildworker/worker/package_linux64/build/usr/share/julia/stdlib/v0.7/Pkg/src/Display.jl:190\n"
     ]
    }
   ],
   "source": [
    "# Check if package is installed\n",
    "import Pkg; Pkg.status()"
   ]
  },
  {
   "cell_type": "code",
   "execution_count": 11,
   "metadata": {},
   "outputs": [
    {
     "name": "stdout",
     "output_type": "stream",
     "text": [
      "\u001b[32m\u001b[1m   Cloning\u001b[22m\u001b[39m git-repo `https://github.com/LaGuer/Cosmology.jl.git`\n",
      "\u001b[?25l    "
     ]
    },
    {
     "name": "stderr",
     "output_type": "stream",
     "text": [
      "┌ Warning: Pkg.clone is only kept for legacy CI script reasons, please use `add`\n",
      "└ @ Pkg.API /buildworker/worker/package_linux64/build/usr/share/julia/stdlib/v0.7/Pkg/src/API.jl:445\n"
     ]
    },
    {
     "name": "stdout",
     "output_type": "stream",
     "text": [
      "\u001b[36m\u001b[1mFetching:\u001b[22m\u001b[39m [>                                        ]  0.0 %\r",
      "    \u001b[36m\u001b[1mFetching:\u001b[22m\u001b[39m [=>                                       ]  0.4 %\r",
      "    \u001b[36m\u001b[1mFetching:\u001b[22m\u001b[39m [=>                                       ]  0.8 %\r",
      "    \u001b[36m\u001b[1mFetching:\u001b[22m\u001b[39m [=>                                       ]  1.2 %\r",
      "    \u001b[36m\u001b[1mFetching:\u001b[22m\u001b[39m [=>                                       ]  1.6 %\r",
      "    \u001b[36m\u001b[1mFetching:\u001b[22m\u001b[39m [=>                                       ]  2.0 %\r",
      "    \u001b[36m\u001b[1mFetching:\u001b[22m\u001b[39m [=>                                       ]  2.4 %\r",
      "    \u001b[36m\u001b[1mFetching:\u001b[22m\u001b[39m [==>                                      ]  2.8 %\r",
      "    \u001b[36m\u001b[1mFetching:\u001b[22m\u001b[39m [==>                                      ]  3.2 %\r",
      "    \u001b[36m\u001b[1mFetching:\u001b[22m\u001b[39m [==>                                      ]  3.6 %\r",
      "    \u001b[36m\u001b[1mFetching:\u001b[22m\u001b[39m [==>                                      ]  4.0 %\r",
      "    \u001b[36m\u001b[1mFetching:\u001b[22m\u001b[39m [==>                                      ]  4.4 %\r",
      "    \u001b[36m\u001b[1mFetching:\u001b[22m\u001b[39m [==>                                      ]  4.8 %\r",
      "    \u001b[36m\u001b[1mFetching:\u001b[22m\u001b[39m [===>                                     ]  5.2 %\r",
      "    \u001b[36m\u001b[1mFetching:\u001b[22m\u001b[39m [===>                                     ]  5.6 %\r",
      "    \u001b[36m\u001b[1mFetching:\u001b[22m\u001b[39m [===>                                     ]  6.0 %\r",
      "    \u001b[36m\u001b[1mFetching:\u001b[22m\u001b[39m [===>                                     ]  6.5 %\r",
      "    \u001b[36m\u001b[1mFetching:\u001b[22m\u001b[39m [===>                                     ]  6.9 %\r",
      "    \u001b[36m\u001b[1mFetching:\u001b[22m\u001b[39m [===>                                     ]  7.3 %\r",
      "    \u001b[36m\u001b[1mFetching:\u001b[22m\u001b[39m [====>                                    ]  7.7 %\r",
      "    \u001b[36m\u001b[1mFetching:\u001b[22m\u001b[39m [====>                                    ]  8.1 %\r",
      "    \u001b[36m\u001b[1mFetching:\u001b[22m\u001b[39m [====>                                    ]  8.5 %\r",
      "    \u001b[36m\u001b[1mFetching:\u001b[22m\u001b[39m [====>                                    ]  8.9 %\r",
      "    \u001b[36m\u001b[1mFetching:\u001b[22m\u001b[39m [====>                                    ]  9.3 %\r",
      "    \u001b[36m\u001b[1mFetching:\u001b[22m\u001b[39m [====>                                    ]  9.7 %\r",
      "    \u001b[36m\u001b[1mFetching:\u001b[22m\u001b[39m [=====>                                   ]  10.1 %\r",
      "    \u001b[36m\u001b[1mFetching:\u001b[22m\u001b[39m [=====>                                   ]  10.5 %\r",
      "    \u001b[36m\u001b[1mFetching:\u001b[22m\u001b[39m [=====>                                   ]  10.9 %\r",
      "    \u001b[36m\u001b[1mFetching:\u001b[22m\u001b[39m [=====>                                   ]  11.3 %\r",
      "    \u001b[36m\u001b[1mFetching:\u001b[22m\u001b[39m [=====>                                   ]  11.7 %\r",
      "    \u001b[36m\u001b[1mFetching:\u001b[22m\u001b[39m [=====>                                   ]  12.1 %\r",
      "    \u001b[36m\u001b[1mFetching:\u001b[22m\u001b[39m [=====>                                   ]  12.5 %\r",
      "    \u001b[36m\u001b[1mFetching:\u001b[22m\u001b[39m [======>                                  ]  12.9 %\r",
      "    \u001b[36m\u001b[1mFetching:\u001b[22m\u001b[39m [======>                                  ]  13.3 %\r",
      "    \u001b[36m\u001b[1mFetching:\u001b[22m\u001b[39m [======>                                  ]  13.7 %\r",
      "    \u001b[36m\u001b[1mFetching:\u001b[22m\u001b[39m [======>                                  ]  14.1 %\r",
      "    \u001b[36m\u001b[1mFetching:\u001b[22m\u001b[39m [======>                                  ]  14.5 %\r",
      "    \u001b[36m\u001b[1mFetching:\u001b[22m\u001b[39m [======>                                  ]  14.9 %\r",
      "    \u001b[36m\u001b[1mFetching:\u001b[22m\u001b[39m [=======>                                 ]  15.3 %\r",
      "    \u001b[36m\u001b[1mFetching:\u001b[22m\u001b[39m [=======>                                 ]  15.7 %\r",
      "    \u001b[36m\u001b[1mFetching:\u001b[22m\u001b[39m [=======>                                 ]  16.1 %\r",
      "    \u001b[36m\u001b[1mFetching:\u001b[22m\u001b[39m [=======>                                 ]  16.5 %\r",
      "    \u001b[36m\u001b[1mFetching:\u001b[22m\u001b[39m [=======>                                 ]  16.9 %\r",
      "    \u001b[36m\u001b[1mFetching:\u001b[22m\u001b[39m [=======>                                 ]  17.3 %\r",
      "    \u001b[36m\u001b[1mFetching:\u001b[22m\u001b[39m [========>                                ]  17.7 %\r",
      "    \u001b[36m\u001b[1mFetching:\u001b[22m\u001b[39m [========>                                ]  18.1 %\r",
      "    \u001b[36m\u001b[1mFetching:\u001b[22m\u001b[39m [========>                                ]  18.5 %\r",
      "    \u001b[36m\u001b[1mFetching:\u001b[22m\u001b[39m [========>                                ]  19.0 %\r",
      "    \u001b[36m\u001b[1mFetching:\u001b[22m\u001b[39m [========>                                ]  19.4 %\r",
      "    \u001b[36m\u001b[1mFetching:\u001b[22m\u001b[39m [========>                                ]  19.8 %\r",
      "    \u001b[36m\u001b[1mFetching:\u001b[22m\u001b[39m [=========>                               ]  20.2 %\r",
      "    \u001b[36m\u001b[1mFetching:\u001b[22m\u001b[39m [=========>                               ]  20.6 %\r",
      "    \u001b[36m\u001b[1mFetching:\u001b[22m\u001b[39m [=========>                               ]  21.0 %\r",
      "    \u001b[36m\u001b[1mFetching:\u001b[22m\u001b[39m [=========>                               ]  21.4 %\r",
      "    \u001b[36m\u001b[1mFetching:\u001b[22m\u001b[39m [=========>                               ]  21.8 %\r",
      "    \u001b[36m\u001b[1mFetching:\u001b[22m\u001b[39m [=========>                               ]  22.2 %\r",
      "    \u001b[36m\u001b[1mFetching:\u001b[22m\u001b[39m [==========>                              ]  22.6 %\r",
      "    \u001b[36m\u001b[1mFetching:\u001b[22m\u001b[39m [==========>                              ]  23.0 %\r",
      "    \u001b[36m\u001b[1mFetching:\u001b[22m\u001b[39m [==========>                              ]  23.4 %\r",
      "    \u001b[36m\u001b[1mFetching:\u001b[22m\u001b[39m [==========>                              ]  23.8 %\r",
      "    \u001b[36m\u001b[1mFetching:\u001b[22m\u001b[39m [==========>                              ]  24.2 %\r",
      "    \u001b[36m\u001b[1mFetching:\u001b[22m\u001b[39m [==========>                              ]  24.6 %\r",
      "    \u001b[36m\u001b[1mFetching:\u001b[22m\u001b[39m [==========>                              ]  25.0 %\r",
      "    \u001b[36m\u001b[1mFetching:\u001b[22m\u001b[39m [===========>                             ]  25.4 %\r",
      "    \u001b[36m\u001b[1mFetching:\u001b[22m\u001b[39m [===========>                             ]  25.8 %\r",
      "    \u001b[36m\u001b[1mFetching:\u001b[22m\u001b[39m [===========>                             ]  26.2 %\r",
      "    \u001b[36m\u001b[1mFetching:\u001b[22m\u001b[39m [===========>                             ]  26.6 %\r",
      "    \u001b[36m\u001b[1mFetching:\u001b[22m\u001b[39m [===========>                             ]  27.0 %\r",
      "    \u001b[36m\u001b[1mFetching:\u001b[22m\u001b[39m [===========>                             ]  27.4 %\r",
      "    \u001b[36m\u001b[1mFetching:\u001b[22m\u001b[39m [============>                            ]  27.8 %\r",
      "    \u001b[36m\u001b[1mFetching:\u001b[22m\u001b[39m [============>                            ]  28.2 %\r",
      "    \u001b[36m\u001b[1mFetching:\u001b[22m\u001b[39m [============>                            ]  28.6 %\r",
      "    \u001b[36m\u001b[1mFetching:\u001b[22m\u001b[39m [============>                            ]  29.0 %\r",
      "    \u001b[36m\u001b[1mFetching:\u001b[22m\u001b[39m [============>                            ]  29.4 %\r",
      "    \u001b[36m\u001b[1mFetching:\u001b[22m\u001b[39m [============>                            ]  29.8 %\r",
      "    \u001b[36m\u001b[1mFetching:\u001b[22m\u001b[39m [=============>                           ]  30.2 %\r",
      "    \u001b[36m\u001b[1mFetching:\u001b[22m\u001b[39m [=============>                           ]  30.6 %\r",
      "    \u001b[36m\u001b[1mFetching:\u001b[22m\u001b[39m [=============>                           ]  31.0 %\r",
      "    \u001b[36m\u001b[1mFetching:\u001b[22m\u001b[39m [=============>                           ]  31.5 %\r",
      "    \u001b[36m\u001b[1mFetching:\u001b[22m\u001b[39m [=============>                           ]  31.9 %\r",
      "    \u001b[36m\u001b[1mFetching:\u001b[22m\u001b[39m [=============>                           ]  32.3 %\r",
      "    \u001b[36m\u001b[1mFetching:\u001b[22m\u001b[39m [==============>                          ]  32.7 %\r",
      "    \u001b[36m\u001b[1mFetching:\u001b[22m\u001b[39m [==============>                          ]  33.1 %\r",
      "    \u001b[36m\u001b[1mFetching:\u001b[22m\u001b[39m [==============>                          ]  33.5 %\r",
      "    \u001b[36m\u001b[1mFetching:\u001b[22m\u001b[39m [==============>                          ]  33.9 %\r",
      "    \u001b[36m\u001b[1mFetching:\u001b[22m\u001b[39m [==============>                          ]  34.3 %\r",
      "    \u001b[36m\u001b[1mFetching:\u001b[22m\u001b[39m [==============>                          ]  34.7 %\r",
      "    \u001b[36m\u001b[1mFetching:\u001b[22m\u001b[39m [===============>                         ]  35.1 %\r",
      "    \u001b[36m\u001b[1mFetching:\u001b[22m\u001b[39m [===============>                         ]  35.5 %\r",
      "    \u001b[36m\u001b[1mFetching:\u001b[22m\u001b[39m [===============>                         ]  35.9 %\r",
      "    \u001b[36m\u001b[1mFetching:\u001b[22m\u001b[39m [===============>                         ]  36.3 %\r",
      "    \u001b[36m\u001b[1mFetching:\u001b[22m\u001b[39m [===============>                         ]  36.7 %\r",
      "    \u001b[36m\u001b[1mFetching:\u001b[22m\u001b[39m [===============>                         ]  37.1 %\r",
      "    \u001b[36m\u001b[1mFetching:\u001b[22m\u001b[39m [===============>                         ]  37.5 %\r",
      "    \u001b[36m\u001b[1mFetching:\u001b[22m\u001b[39m [================>                        ]  37.9 %\r",
      "    \u001b[36m\u001b[1mFetching:\u001b[22m\u001b[39m [================>                        ]  38.3 %\r",
      "    \u001b[36m\u001b[1mFetching:\u001b[22m\u001b[39m [================>                        ]  38.7 %\r",
      "    \u001b[36m\u001b[1mFetching:\u001b[22m\u001b[39m [================>                        ]  39.1 %\r",
      "    \u001b[36m\u001b[1mFetching:\u001b[22m\u001b[39m [================>                        ]  39.5 %\r",
      "    \u001b[36m\u001b[1mFetching:\u001b[22m\u001b[39m [================>                        ]  39.9 %\r",
      "    \u001b[36m\u001b[1mFetching:\u001b[22m\u001b[39m [=================>                       ]  40.3 %\r",
      "    \u001b[36m\u001b[1mFetching:\u001b[22m\u001b[39m [=================>                       ]  40.7 %\r",
      "    \u001b[36m\u001b[1mFetching:\u001b[22m\u001b[39m [=================>                       ]  41.1 %\r",
      "    \u001b[36m\u001b[1mFetching:\u001b[22m\u001b[39m [=================>                       ]  41.5 %\r",
      "    \u001b[36m\u001b[1mFetching:\u001b[22m\u001b[39m [=================>                       ]  41.9 %\r",
      "    \u001b[36m\u001b[1mFetching:\u001b[22m\u001b[39m [=================>                       ]  42.3 %\r",
      "    \u001b[36m\u001b[1mFetching:\u001b[22m\u001b[39m [==================>                      ]  42.7 %\r",
      "    \u001b[36m\u001b[1mFetching:\u001b[22m\u001b[39m [==================>                      ]  43.1 %\r",
      "    \u001b[36m\u001b[1mFetching:\u001b[22m\u001b[39m [==================>                      ]  43.5 %\r",
      "    \u001b[36m\u001b[1mFetching:\u001b[22m\u001b[39m [==================>                      ]  44.0 %\r",
      "    \u001b[36m\u001b[1mFetching:\u001b[22m\u001b[39m [==================>                      ]  44.4 %\r",
      "    \u001b[36m\u001b[1mFetching:\u001b[22m\u001b[39m [==================>                      ]  44.8 %\r",
      "    \u001b[36m\u001b[1mFetching:\u001b[22m\u001b[39m [===================>                     ]  45.2 %\r",
      "    \u001b[36m\u001b[1mFetching:\u001b[22m\u001b[39m [===================>                     ]  45.6 %\r",
      "    \u001b[36m\u001b[1mFetching:\u001b[22m\u001b[39m [===================>                     ]  46.0 %\r",
      "    \u001b[36m\u001b[1mFetching:\u001b[22m\u001b[39m [===================>                     ]  46.4 %\r",
      "    \u001b[36m\u001b[1mFetching:\u001b[22m\u001b[39m [===================>                     ]  46.8 %\r",
      "    \u001b[36m\u001b[1mFetching:\u001b[22m\u001b[39m [===================>                     ]  47.2 %\r",
      "    \u001b[36m\u001b[1mFetching:\u001b[22m\u001b[39m [====================>                    ]  47.6 %\r",
      "    \u001b[36m\u001b[1mFetching:\u001b[22m\u001b[39m [====================>                    ]  48.0 %\r",
      "    \u001b[36m\u001b[1mFetching:\u001b[22m\u001b[39m [====================>                    "
     ]
    },
    {
     "name": "stdout",
     "output_type": "stream",
     "text": [
      "]  48.4 %\r",
      "    \u001b[36m\u001b[1mFetching:\u001b[22m\u001b[39m [====================>                    ]  48.8 %\r",
      "    \u001b[36m\u001b[1mFetching:\u001b[22m\u001b[39m [====================>                    ]  49.2 %\r",
      "    \u001b[36m\u001b[1mFetching:\u001b[22m\u001b[39m [====================>                    ]  49.6 %\r",
      "    \u001b[36m\u001b[1mFetching:\u001b[22m\u001b[39m [====================>                    ]  50.0 %\r",
      "    \u001b[36m\u001b[1mFetching:\u001b[22m\u001b[39m [=====================>                   ]  50.4 %\r",
      "    \u001b[36m\u001b[1mFetching:\u001b[22m\u001b[39m [=====================>                   ]  50.8 %\r",
      "    \u001b[36m\u001b[1mFetching:\u001b[22m\u001b[39m [=====================>                   ]  51.2 %\r",
      "    \u001b[36m\u001b[1mFetching:\u001b[22m\u001b[39m [=====================>                   ]  51.6 %\r",
      "    \u001b[36m\u001b[1mFetching:\u001b[22m\u001b[39m [=====================>                   ]  52.0 %\r",
      "    \u001b[36m\u001b[1mFetching:\u001b[22m\u001b[39m [=====================>                   ]  52.4 %\r",
      "    \u001b[36m\u001b[1mFetching:\u001b[22m\u001b[39m [======================>                  ]  52.8 %\r",
      "    \u001b[36m\u001b[1mFetching:\u001b[22m\u001b[39m [======================>                  ]  53.2 %\r",
      "    \u001b[36m\u001b[1mFetching:\u001b[22m\u001b[39m [======================>                  ]  53.6 %\r",
      "    \u001b[36m\u001b[1mFetching:\u001b[22m\u001b[39m [======================>                  ]  54.0 %\r",
      "    \u001b[36m\u001b[1mFetching:\u001b[22m\u001b[39m [======================>                  ]  54.4 %\r",
      "    \u001b[36m\u001b[1mFetching:\u001b[22m\u001b[39m [======================>                  ]  54.8 %\r",
      "    \u001b[36m\u001b[1mFetching:\u001b[22m\u001b[39m [=======================>                 ]  55.2 %\r",
      "    \u001b[36m\u001b[1mFetching:\u001b[22m\u001b[39m [=======================>                 ]  55.6 %\r",
      "    \u001b[36m\u001b[1mFetching:\u001b[22m\u001b[39m [=======================>                 ]  56.0 %\r",
      "    \u001b[36m\u001b[1mFetching:\u001b[22m\u001b[39m [=======================>                 ]  56.5 %\r",
      "    \u001b[36m\u001b[1mFetching:\u001b[22m\u001b[39m [=======================>                 ]  56.9 %\r",
      "    \u001b[36m\u001b[1mFetching:\u001b[22m\u001b[39m [=======================>                 ]  57.3 %\r",
      "    \u001b[36m\u001b[1mFetching:\u001b[22m\u001b[39m [========================>                ]  57.7 %\r",
      "    \u001b[36m\u001b[1mFetching:\u001b[22m\u001b[39m [========================>                ]  58.1 %\r",
      "    \u001b[36m\u001b[1mFetching:\u001b[22m\u001b[39m [========================>                ]  58.5 %\r",
      "    \u001b[36m\u001b[1mFetching:\u001b[22m\u001b[39m [========================>                ]  58.9 %\r",
      "    \u001b[36m\u001b[1mFetching:\u001b[22m\u001b[39m [========================>                ]  59.3 %\r",
      "    \u001b[36m\u001b[1mFetching:\u001b[22m\u001b[39m [========================>                ]  59.7 %\r",
      "    \u001b[36m\u001b[1mFetching:\u001b[22m\u001b[39m [=========================>               ]  60.1 %\r",
      "    \u001b[36m\u001b[1mFetching:\u001b[22m\u001b[39m [=========================>               ]  60.5 %\r",
      "    \u001b[36m\u001b[1mFetching:\u001b[22m\u001b[39m [=========================>               ]  60.9 %\r",
      "    \u001b[36m\u001b[1mFetching:\u001b[22m\u001b[39m [=========================>               ]  61.3 %\r",
      "    \u001b[36m\u001b[1mFetching:\u001b[22m\u001b[39m [=========================>               ]  61.7 %\r",
      "    \u001b[36m\u001b[1mFetching:\u001b[22m\u001b[39m [=========================>               ]  62.1 %\r",
      "    \u001b[36m\u001b[1mFetching:\u001b[22m\u001b[39m [=========================>               ]  62.5 %\r",
      "    \u001b[36m\u001b[1mFetching:\u001b[22m\u001b[39m [==========================>              ]  62.9 %\r",
      "    \u001b[36m\u001b[1mFetching:\u001b[22m\u001b[39m [==========================>              ]  63.3 %\r",
      "    \u001b[36m\u001b[1mFetching:\u001b[22m\u001b[39m [==========================>              ]  63.7 %\r",
      "    \u001b[36m\u001b[1mFetching:\u001b[22m\u001b[39m [==========================>              ]  64.1 %\r",
      "    \u001b[36m\u001b[1mFetching:\u001b[22m\u001b[39m [==========================>              ]  64.5 %\r",
      "    \u001b[36m\u001b[1mFetching:\u001b[22m\u001b[39m [==========================>              ]  64.9 %\r",
      "    \u001b[36m\u001b[1mFetching:\u001b[22m\u001b[39m [===========================>             ]  65.3 %\r",
      "    \u001b[36m\u001b[1mFetching:\u001b[22m\u001b[39m [===========================>             ]  65.7 %\r",
      "    \u001b[36m\u001b[1mFetching:\u001b[22m\u001b[39m [===========================>             ]  66.1 %\r",
      "    \u001b[36m\u001b[1mFetching:\u001b[22m\u001b[39m [===========================>             ]  66.5 %\r",
      "    \u001b[36m\u001b[1mFetching:\u001b[22m\u001b[39m [===========================>             ]  66.9 %\r",
      "    \u001b[36m\u001b[1mFetching:\u001b[22m\u001b[39m [===========================>             ]  67.3 %\r",
      "    \u001b[36m\u001b[1mFetching:\u001b[22m\u001b[39m [============================>            ]  67.7 %\r",
      "    \u001b[36m\u001b[1mFetching:\u001b[22m\u001b[39m [============================>            ]  68.1 %\r",
      "    \u001b[36m\u001b[1mFetching:\u001b[22m\u001b[39m [============================>            ]  68.5 %\r",
      "    \u001b[36m\u001b[1mFetching:\u001b[22m\u001b[39m [============================>            ]  69.0 %\r",
      "    \u001b[36m\u001b[1mFetching:\u001b[22m\u001b[39m [============================>            ]  69.4 %\r",
      "    \u001b[36m\u001b[1mFetching:\u001b[22m\u001b[39m [============================>            ]  69.8 %\r",
      "    \u001b[36m\u001b[1mFetching:\u001b[22m\u001b[39m [=============================>           ]  70.2 %\r",
      "    \u001b[36m\u001b[1mFetching:\u001b[22m\u001b[39m [=============================>           ]  70.6 %\r",
      "    \u001b[36m\u001b[1mFetching:\u001b[22m\u001b[39m [=============================>           ]  71.0 %\r",
      "    \u001b[36m\u001b[1mFetching:\u001b[22m\u001b[39m [=============================>           ]  71.4 %\r",
      "    \u001b[36m\u001b[1mFetching:\u001b[22m\u001b[39m [=============================>           ]  71.8 %\r",
      "    \u001b[36m\u001b[1mFetching:\u001b[22m\u001b[39m [=============================>           ]  72.2 %\r",
      "    \u001b[36m\u001b[1mFetching:\u001b[22m\u001b[39m [==============================>          ]  72.6 %\r",
      "    \u001b[36m\u001b[1mFetching:\u001b[22m\u001b[39m [==============================>          ]  73.0 %\r",
      "    \u001b[36m\u001b[1mFetching:\u001b[22m\u001b[39m [==============================>          ]  73.4 %\r",
      "    \u001b[36m\u001b[1mFetching:\u001b[22m\u001b[39m [==============================>          ]  73.8 %\r",
      "    \u001b[36m\u001b[1mFetching:\u001b[22m\u001b[39m [==============================>          ]  74.2 %\r",
      "    \u001b[36m\u001b[1mFetching:\u001b[22m\u001b[39m [==============================>          ]  74.6 %\r",
      "    \u001b[36m\u001b[1mFetching:\u001b[22m\u001b[39m [==============================>          ]  75.0 %\r",
      "    \u001b[36m\u001b[1mFetching:\u001b[22m\u001b[39m [===============================>         ]  75.4 %\r",
      "    \u001b[36m\u001b[1mFetching:\u001b[22m\u001b[39m [===============================>         ]  75.8 %\r",
      "    \u001b[36m\u001b[1mFetching:\u001b[22m\u001b[39m [===============================>         ]  76.2 %\r",
      "    \u001b[36m\u001b[1mFetching:\u001b[22m\u001b[39m [===============================>         ]  76.6 %\r",
      "    \u001b[36m\u001b[1mFetching:\u001b[22m\u001b[39m [===============================>         ]  77.0 %\r",
      "    \u001b[36m\u001b[1mFetching:\u001b[22m\u001b[39m [===============================>         ]  77.4 %\r",
      "    \u001b[36m\u001b[1mFetching:\u001b[22m\u001b[39m [================================>        ]  77.8 %\r",
      "    \u001b[36m\u001b[1mFetching:\u001b[22m\u001b[39m [================================>        ]  78.2 %\r",
      "    \u001b[36m\u001b[1mFetching:\u001b[22m\u001b[39m [================================>        ]  78.6 %\r",
      "    \u001b[36m\u001b[1mFetching:\u001b[22m\u001b[39m [================================>        ]  79.0 %\r",
      "    \u001b[36m\u001b[1mFetching:\u001b[22m\u001b[39m [================================>        ]  79.4 %\r",
      "    \u001b[36m\u001b[1mFetching:\u001b[22m\u001b[39m [================================>        ]  79.8 %\r",
      "    \u001b[36m\u001b[1mFetching:\u001b[22m\u001b[39m [=================================>       ]  80.2 %\r",
      "    \u001b[36m\u001b[1mFetching:\u001b[22m\u001b[39m [=================================>       ]  80.6 %\r",
      "    \u001b[36m\u001b[1mFetching:\u001b[22m\u001b[39m [=================================>       ]  81.0 %\r",
      "    \u001b[36m\u001b[1mFetching:\u001b[22m\u001b[39m [=================================>       ]  81.5 %\r",
      "    \u001b[36m\u001b[1mFetching:\u001b[22m\u001b[39m [=================================>       ]  81.9 %\r",
      "    \u001b[36m\u001b[1mFetching:\u001b[22m\u001b[39m [=================================>       ]  82.3 %\r",
      "    \u001b[36m\u001b[1mFetching:\u001b[22m\u001b[39m [==================================>      ]  82.7 %\r",
      "    \u001b[36m\u001b[1mFetching:\u001b[22m\u001b[39m [==================================>      ]  83.1 %\r",
      "    \u001b[36m\u001b[1mFetching:\u001b[22m\u001b[39m [==================================>      ]  83.5 %\r",
      "    \u001b[36m\u001b[1mFetching:\u001b[22m\u001b[39m [==================================>      ]  83.9 %\r",
      "    \u001b[36m\u001b[1mFetching:\u001b[22m\u001b[39m [==================================>      ]  84.3 %\r",
      "    \u001b[36m\u001b[1mFetching:\u001b[22m\u001b[39m [==================================>      ]  84.7 %\r",
      "    \u001b[36m\u001b[1mFetching:\u001b[22m\u001b[39m [===================================>     ]  85.1 %\r",
      "    \u001b[36m\u001b[1mFetching:\u001b[22m\u001b[39m [===================================>     ]  85.5 %\r",
      "    \u001b[36m\u001b[1mFetching:\u001b[22m\u001b[39m [===================================>     ]  85.9 %\r",
      "    \u001b[36m\u001b[1mFetching:\u001b[22m\u001b[39m [===================================>     ]  86.3 %\r",
      "    \u001b[36m\u001b[1mFetching:\u001b[22m\u001b[39m [===================================>     ]  86.7 %\r",
      "    \u001b[36m\u001b[1mFetching:\u001b[22m\u001b[39m [===================================>     ]  87.1 %\r",
      "    \u001b[36m\u001b[1mFetching:\u001b[22m\u001b[39m [===================================>     ]  87.5 %\r",
      "    \u001b[36m\u001b[1mFetching:\u001b[22m\u001b[39m [====================================>    ]  87.9 %\r",
      "    \u001b[36m\u001b[1mFetching:\u001b[22m\u001b[39m [====================================>    ]  88.3 %\r",
      "    \u001b[36m\u001b[1mFetching:\u001b[22m\u001b[39m [====================================>    ]  88.7 %\r",
      "    \u001b[36m\u001b[1mFetching:\u001b[22m\u001b[39m [====================================>    ]  89.1 %\r",
      "    \u001b[36m\u001b[1mFetching:\u001b[22m\u001b[39m [====================================>    ]  89.5 %\r",
      "    \u001b[36m\u001b[1mFetching:\u001b[22m\u001b[39m [====================================>    ]  89.9 %\r",
      "    \u001b[36m\u001b[1mFetching:\u001b[22m\u001b[39m [=====================================>   ]  90.3 %\r",
      "    \u001b[36m\u001b[1mFetching:\u001b[22m\u001b[39m [=====================================>   ]  90.7 %\r",
      "    \u001b[36m\u001b[1mFetching:\u001b[22m\u001b[39m [=====================================>   ]  91.1 %\r",
      "    \u001b[36m\u001b[1mFetching:\u001b[22m\u001b[39m [=====================================>   ]  91.5 %\r",
      "    \u001b[36m\u001b[1mFetching:\u001b[22m\u001b[39m [=====================================>   ]  91.9 %\r",
      "    \u001b[36m\u001b[1mFetching:\u001b[22m\u001b[39m [=====================================>   ]  92.3 %\r",
      "    \u001b[36m\u001b[1mFetching:\u001b[22m\u001b[39m [======================================>  ]  92.7 %\r",
      "    \u001b[36m\u001b[1mFetching:\u001b[22m\u001b[39m [======================================>  ]  93.1 %\r",
      "    \u001b[36m\u001b[1mFetching:\u001b[22m\u001b[39m [======================================>  ]  93.5 %\r",
      "    \u001b[36m\u001b[1mFetching:\u001b[22m\u001b[39m [======================================>  ]  94.0 %\r",
      "    \u001b[36m\u001b[1mFetching:\u001b[22m\u001b[39m [======================================>  ]  94.4 %\r",
      "    \u001b[36m\u001b[1mFetching:\u001b[22m\u001b[39m [======================================>  ]  94.8 %\r",
      "    \u001b[36m\u001b[1mFetching:\u001b[22m\u001b[39m [=======================================> ]  95.2 %\r",
      "    \u001b[36m\u001b[1mFetching:\u001b[22m\u001b[39m [=======================================> ]  95.6 %\r",
      "    \u001b[36m\u001b[1mFetching:\u001b[22m\u001b[39m [=======================================> ]  96.0 %\r",
      "    \u001b[36m\u001b[1mFetching:\u001b[22m\u001b[39m [=======================================> ]  96.4 %\r",
      "    \u001b[36m\u001b[1mFetching:\u001b[22m\u001b[39m [=======================================> ]  96.8 %\r",
      "    \u001b[36m\u001b[1mFetching:\u001b[22m\u001b[39m ["
     ]
    },
    {
     "name": "stdout",
     "output_type": "stream",
     "text": [
      "\u001b[2K\u001b[?25h\u001b[32m\u001b[1m  Updating\u001b[22m\u001b[39m git-repo `https://github.com/LaGuer/Cosmology.jl.git`\n",
      "\u001b[?25l\u001b[2K\u001b[?25h\u001b[32m\u001b[1m Resolving\u001b[22m\u001b[39m package versions...\n",
      "\u001b[32m\u001b[1m  Updating\u001b[22m\u001b[39m `/srv/julia/pkg/environments/v0.7/Project.toml`\n",
      " \u001b[90m [76746363]\u001b[39m\u001b[92m + Cosmology v0.5.0+ [`/srv/julia/pkg/dev/Cosmology`]\u001b[39m\n",
      "\u001b[32m\u001b[1m  Updating\u001b[22m\u001b[39m `/srv/julia/pkg/environments/v0.7/Manifest.toml`\n",
      " \u001b[90m [76746363]\u001b[39m\u001b[92m + Cosmology v0.5.0+ [`/srv/julia/pkg/dev/Cosmology`]\u001b[39m\n"
     ]
    }
   ],
   "source": [
    "# Clone the Cosmology.jl package\n",
    "import Pkg; Pkg.clone(\"https://github.com/LaGuer/Cosmology.jl.git\")"
   ]
  },
  {
   "cell_type": "code",
   "execution_count": 13,
   "metadata": {},
   "outputs": [
    {
     "name": "stdout",
     "output_type": "stream",
     "text": [
      "\u001b[32m\u001b[1m  Updating\u001b[22m\u001b[39m registry at `/srv/julia/pkg/registries/General`\n",
      "\u001b[32m\u001b[1m  Updating\u001b[22m\u001b[39m git-repo `https://github.com/JuliaRegistries/General.git`\n",
      "\u001b[?25l\u001b[2K\u001b[?25h"
     ]
    }
   ],
   "source": [
    "import Pkg; Pkg.instantiate()"
   ]
  },
  {
   "cell_type": "code",
   "execution_count": 4,
   "metadata": {},
   "outputs": [
    {
     "name": "stdout",
     "output_type": "stream",
     "text": [
      "\u001b[32m\u001b[1m  Updating\u001b[22m\u001b[39m registry at `/srv/julia/pkg/registries/General`\n",
      "\u001b[32m\u001b[1m  Updating\u001b[22m\u001b[39m git-repo `https://github.com/JuliaRegistries/General.git`\n",
      "\u001b[?25l\u001b[2K\u001b[?25h\u001b[32m\u001b[1m Resolving\u001b[22m\u001b[39m package versions...\n",
      "\u001b[32m\u001b[1m  Updating\u001b[22m\u001b[39m `/srv/julia/pkg/environments/v0.7/Project.toml`\n",
      "\u001b[90m [no changes]\u001b[39m\n",
      "\u001b[32m\u001b[1m  Updating\u001b[22m\u001b[39m `/srv/julia/pkg/environments/v0.7/Manifest.toml`\n",
      "\u001b[90m [no changes]\u001b[39m\n"
     ]
    }
   ],
   "source": [
    "import Pkg; Pkg.update()"
   ]
  },
  {
   "cell_type": "code",
   "execution_count": 19,
   "metadata": {},
   "outputs": [],
   "source": [
    "# Pkg.add(\"Cosmology\")"
   ]
  },
  {
   "cell_type": "code",
   "execution_count": 20,
   "metadata": {},
   "outputs": [],
   "source": [
    "using Cosmology"
   ]
  },
  {
   "cell_type": "code",
   "execution_count": 21,
   "metadata": {},
   "outputs": [
    {
     "data": {
      "text/plain": [
       "Cosmology.FlatLCDM{Float64}(0.69, 0.7099122024007928, 0.29, 8.77975992071536e-5)"
      ]
     },
     "execution_count": 21,
     "metadata": {},
     "output_type": "execute_result"
    }
   ],
   "source": [
    "C = cosmology()"
   ]
  },
  {
   "cell_type": "code",
   "execution_count": 22,
   "metadata": {},
   "outputs": [
    {
     "name": "stderr",
     "output_type": "stream",
     "text": [
      "┌ Warning: `age_gyr(c::AbstractCosmology, z; kws...)` is deprecated, use `ustrip(age(c::AbstractCosmology, z; kws...))` instead.\n",
      "│   caller = top-level scope at In[22]:1\n",
      "└ @ Core In[22]:1\n"
     ]
    },
    {
     "data": {
      "text/plain": [
       "5.184117615201398"
      ]
     },
     "execution_count": 22,
     "metadata": {},
     "output_type": "execute_result"
    }
   ],
   "source": [
    "age_gyr(C, 1.2)"
   ]
  },
  {
   "cell_type": "code",
   "execution_count": 23,
   "metadata": {},
   "outputs": [
    {
     "data": {
      "text/plain": [
       "Cosmology.OpenLCDM{Float64}(0.69, 0.1, 0.6099122024007929, 0.29, 8.77975992071536e-5)"
      ]
     },
     "execution_count": 23,
     "metadata": {},
     "output_type": "execute_result"
    }
   ],
   "source": [
    "C = cosmology(OmegaK=0.1)"
   ]
  },
  {
   "cell_type": "code",
   "execution_count": 24,
   "metadata": {},
   "outputs": [
    {
     "name": "stderr",
     "output_type": "stream",
     "text": [
      "┌ Warning: `age_gyr(c::AbstractCosmology, z; kws...)` is deprecated, use `ustrip(age(c::AbstractCosmology, z; kws...))` instead.\n",
      "│   caller = top-level scope at In[24]:1\n",
      "└ @ Core In[24]:1\n"
     ]
    },
    {
     "data": {
      "text/plain": [
       "5.000658241776422"
      ]
     },
     "execution_count": 24,
     "metadata": {},
     "output_type": "execute_result"
    }
   ],
   "source": [
    "age_gyr(C, 1.2)"
   ]
  },
  {
   "cell_type": "code",
   "execution_count": 25,
   "metadata": {},
   "outputs": [
    {
     "data": {
      "text/plain": [
       "Cosmology.ClosedWCDM{Float64}(0.69, -0.1, 0.8099122024007929, 0.29, 8.77975992071536e-5, -0.9, 0.0)"
      ]
     },
     "execution_count": 25,
     "metadata": {},
     "output_type": "execute_result"
    }
   ],
   "source": [
    "C = cosmology(w0=-0.9, OmegaK=-0.1)"
   ]
  },
  {
   "cell_type": "code",
   "execution_count": 26,
   "metadata": {},
   "outputs": [
    {
     "name": "stderr",
     "output_type": "stream",
     "text": [
      "┌ Warning: `age_gyr(c::AbstractCosmology, z; kws...)` is deprecated, use `ustrip(age(c::AbstractCosmology, z; kws...))` instead.\n",
      "│   caller = top-level scope at In[26]:1\n",
      "└ @ Core In[26]:1\n"
     ]
    },
    {
     "data": {
      "text/plain": [
       "5.313153647172379"
      ]
     },
     "execution_count": 26,
     "metadata": {},
     "output_type": "execute_result"
    }
   ],
   "source": [
    "age_gyr(C, 1.2)"
   ]
  },
  {
   "cell_type": "code",
   "execution_count": 27,
   "metadata": {},
   "outputs": [
    {
     "data": {
      "text/plain": [
       "Cosmology.FlatLCDM{Float64}(0.69, 0.7399122024007928, 0.26, 8.77975992071536e-5)"
      ]
     },
     "execution_count": 27,
     "metadata": {},
     "output_type": "execute_result"
    }
   ],
   "source": [
    "C = cosmology(OmegaM=0.26)"
   ]
  },
  {
   "cell_type": "code",
   "execution_count": 28,
   "metadata": {},
   "outputs": [
    {
     "name": "stderr",
     "output_type": "stream",
     "text": [
      "┌ Warning: `age_gyr(c::AbstractCosmology, z; kws...)` is deprecated, use `ustrip(age(c::AbstractCosmology, z; kws...))` instead.\n",
      "│   caller = top-level scope at In[28]:1\n",
      "└ @ Core In[28]:1\n"
     ]
    },
    {
     "data": {
      "text/plain": [
       "5.445600787626434"
      ]
     },
     "execution_count": 28,
     "metadata": {},
     "output_type": "execute_result"
    }
   ],
   "source": [
    "age_gyr(Kocmoc, 1.2)"
   ]
  },
  {
   "cell_type": "code",
   "execution_count": 29,
   "metadata": {},
   "outputs": [
    {
     "data": {
      "text/plain": [
       "1784.0089227105113 Mpc"
      ]
     },
     "execution_count": 29,
     "metadata": {},
     "output_type": "execute_result"
    }
   ],
   "source": [
    "angular_diameter_dist(C, 1.2)"
   ]
  },
  {
   "cell_type": "code",
   "execution_count": 30,
   "metadata": {},
   "outputs": [
    {
     "data": {
      "text/plain": [
       "3924.8196299631254 Mpc"
      ]
     },
     "execution_count": 30,
     "metadata": {},
     "output_type": "execute_result"
    }
   ],
   "source": [
    "comoving_radial_dist(C, 1.2)"
   ]
  },
  {
   "cell_type": "code",
   "execution_count": 31,
   "metadata": {},
   "outputs": [
    {
     "data": {
      "text/plain": [
       "253.248987827406 Gpc^3"
      ]
     },
     "execution_count": 31,
     "metadata": {},
     "output_type": "execute_result"
    }
   ],
   "source": [
    "comoving_volume(C, 1.2)"
   ]
  },
  {
   "cell_type": "code",
   "execution_count": 32,
   "metadata": {},
   "outputs": [
    {
     "data": {
      "text/plain": [
       "8634.603185918877 Mpc"
      ]
     },
     "execution_count": 32,
     "metadata": {},
     "output_type": "execute_result"
    }
   ],
   "source": [
    "luminosity_dist(C, 1.2)"
   ]
  },
  {
   "cell_type": "code",
   "execution_count": 33,
   "metadata": {},
   "outputs": [
    {
     "data": {
      "text/plain": [
       "Cosmology.FlatLCDM{Float64}(0.69, 0.7399122024007928, 0.26, 8.77975992071536e-5)"
      ]
     },
     "execution_count": 33,
     "metadata": {},
     "output_type": "execute_result"
    }
   ],
   "source": [
    "C = cosmology(OmegaM=0.26)"
   ]
  },
  {
   "cell_type": "code",
   "execution_count": 34,
   "metadata": {},
   "outputs": [
    {
     "name": "stderr",
     "output_type": "stream",
     "text": [
      "┌ Warning: `age_gyr(c::AbstractCosmology, z; kws...)` is deprecated, use `ustrip(age(c::AbstractCosmology, z; kws...))` instead.\n",
      "│   caller = top-level scope at In[34]:1\n",
      "└ @ Core In[34]:1\n"
     ]
    },
    {
     "data": {
      "text/plain": [
       "5.445600787626434"
      ]
     },
     "execution_count": 34,
     "metadata": {},
     "output_type": "execute_result"
    }
   ],
   "source": [
    "age_gyr(C, 1.2)"
   ]
  },
  {
   "cell_type": "code",
   "execution_count": 35,
   "metadata": {},
   "outputs": [
    {
     "data": {
      "text/plain": [
       "8634.603185918877 Mpc"
      ]
     },
     "execution_count": 35,
     "metadata": {},
     "output_type": "execute_result"
    }
   ],
   "source": [
    "luminosity_dist(C, 1.2)"
   ]
  },
  {
   "cell_type": "code",
   "execution_count": 36,
   "metadata": {},
   "outputs": [
    {
     "data": {
      "text/plain": [
       "44.681211919056686"
      ]
     },
     "execution_count": 36,
     "metadata": {},
     "output_type": "execute_result"
    }
   ],
   "source": [
    "distmod(C, 1.2)"
   ]
  },
  {
   "cell_type": "markdown",
   "metadata": {},
   "source": [
    "# Cosmology.jl with nbodykit"
   ]
  },
  {
   "cell_type": "markdown",
   "metadata": {},
   "source": [
    "## nbodykit\n",
    "\n",
    "https://github.com/bccp/nbodykit"
   ]
  },
  {
   "cell_type": "markdown",
   "metadata": {},
   "source": [
    "In Python mode run:\n",
    "\n",
    "conda install -c bccp nbodykit\n"
   ]
  },
  {
   "cell_type": "code",
   "execution_count": 8,
   "metadata": {},
   "outputs": [
    {
     "name": "stdout",
     "output_type": "stream",
     "text": [
      "Collecting xelatex\n",
      "\u001b[31m  ERROR: Could not find a version that satisfies the requirement xelatex (from versions: none)\u001b[0m\n",
      "\u001b[31mERROR: No matching distribution found for xelatex\u001b[0m\n"
     ]
    }
   ],
   "source": [
    "#!pip install xelatex"
   ]
  },
  {
   "cell_type": "code",
   "execution_count": null,
   "metadata": {},
   "outputs": [],
   "source": [
    "conda install -c bccp nbodykit"
   ]
  },
  {
   "cell_type": "code",
   "execution_count": null,
   "metadata": {},
   "outputs": [],
   "source": [
    "conda list"
   ]
  },
  {
   "cell_type": "code",
   "execution_count": 8,
   "metadata": {
    "nbsphinx": "hidden"
   },
   "outputs": [],
   "source": [
    "# this cell is hidden by metadata\n",
    "from nbodykit import style\n",
    "import matplotlib.pyplot as plt\n",
    "plt.style.use(style.notebook)"
   ]
  },
  {
   "cell_type": "raw",
   "metadata": {
    "raw_mimetype": "text/restructuredtext"
   },
   "source": [
    ".. _cosmology:\n",
    "\n",
    "Cosmological Calculations\n",
    "=========================\n",
    "\n",
    "The :mod:`nbodykit.cosmology` module includes functionality for\n",
    "representing cosmological parameter sets and computing various\n",
    "theoretical quantities prevalent in large-scale structure that depend\n",
    "on the background cosmological model. The module relies on the\n",
    "`CLASS CMB Boltzmann code <http://class-code.net>`_ as the underlying\n",
    "engine for its cosmological calculations via the Python wrapper\n",
    "provided by the :mod:`classylss` package. For consistency, the cosmology\n",
    "syntax used in nbodykit largely follows that of the CLASS code. A useful\n",
    "set of links for reference material on CLASS is available\n",
    "`here <http://classylss.readthedocs.io/en/stable/class-docs.html>`_.\n",
    "\n",
    ".. currentmodule:: nbodykit.cosmology\n",
    "\n",
    "\n",
    "The :class:`Cosmology` class\n",
    "----------------------------\n",
    "\n",
    "nbodykit provides the :class:`~cosmology.Cosmology`\n",
    "class for representing cosmological parameter sets. Given an input set of\n",
    "parameters, this class uses the CLASS code to evaluate various quantities\n",
    "relevant to large-scale structure. The class can compute background quantities,\n",
    "such as distances, as a function of redshift, as well as linear and nonlinear\n",
    "power spectra and transfer functions.\n",
    "\n",
    "..  note::\n",
    "\n",
    "  For a full list of the attributes and\n",
    "  functions available, please see the :ref:`API docs <api-cosmology>`.\n",
    "  \n",
    "The CLASS code supports multiple sets of input parameters, e.g., the user\n",
    "can specify ``H0`` or ``h``. For simplicity, we use the following parameters\n",
    "to initialize a :class:`~cosmology.Cosmology` object:\n",
    "\n",
    "* ``h`` : the dimensionless Hubble parameter\n",
    "* ``T0_cmb`` : the temperature of the CMB in Kelvins\n",
    "* ``Omega0_b`` : the current baryon density parameter, :math:`\\Omega_{b,0}`\n",
    "* ``Omega0_cdm`` : the current cold dark matter density parameter, :math:`\\Omega_{cdm,0}`\n",
    "* ``N_ur`` : the number of ultra-relativistic (massless neutrino) species\n",
    "* ``m_ncdm`` : the masses (in eV) for all massive neutrino species\n",
    "* ``P_k_max`` : the maximum wavenumber to compute power spectrum results to, in units\n",
    "  of :math:`h \\mathrm{Mpc}^{-1}`\n",
    "* ``P_z_max`` : the maximum redshift to compute power spectrum results to\n",
    "* ``gauge`` : the General Relativity gauge, either \"synchronous\" or \"newtonian\"\n",
    "* ``n_s`` : the tilt of the primordial power spectrum\n",
    "* ``nonlinear`` : whether to compute nonlinear power spectrum results via `HaloFit`_\n",
    "\n",
    "Any valid CLASS parameters can be additionally specified as keywords to the\n",
    ":class:`~cosmology.Cosmology` constructor. If these additional parameters\n",
    "conflict with the base set of parameters above, an exception will be raised.\n",
    "For a guide to the valid input CLASS parameters, the \"`explanatory.ini`_\"\n",
    "parameter file in the CLASS GitHub is a good place to start.\n",
    "\n",
    "**Notes and Caveats**\n",
    "\n",
    "* The default configuration assumes a flat cosmology, :math:`\\Omega_{k,0}=0`.\n",
    "  Pass ``Omega0_k`` as a keyword to specify the desired non-flat curvature.\n",
    "* By default, the value for ``N_ur`` is inferred from the number of massive\n",
    "  neutrinos using the following logic: if you have respectively 1,2,3 massive\n",
    "  neutrinos and use the default ``T_ncdm`` value (0.71611 K), which is\n",
    "  designed to give m/omega of 93.14 eV, and you wish to have ``N_eff=3.046`` in\n",
    "  the early universe, then ``N_ur`` is set to 2.0328, 1.0196, 0.00641,\n",
    "  respectively.\n",
    "* For consistency of variable names, the present day values can be passed\n",
    "  with or without the \"0\" postfix, e.g., ``Omega0_cdm`` is translated to\n",
    "  ``Omega_cdm`` as CLASS always uses the names without \"0\" as input\n",
    "  parameters.\n",
    "* By default, a cosmological constant (``Omega0_lambda``) is assumed, with\n",
    "  its density value inferred by the curvature condition.\n",
    "* Non-cosmological constant dark energy can be used by specifying the\n",
    "  ``w0_fld``, ``wa_fld``, and/or ``Omega0_fld`` values.\n",
    "* To pass in CLASS parameters that are not valid Python argument names, use\n",
    "  the dictionary/keyword arguments trick, e.g.,\n",
    "  ``Cosmology(..., **{'temperature contributions': 'y'})``\n",
    "\n",
    "Builtin Cosmologies\n",
    "^^^^^^^^^^^^^^^^^^^\n",
    "\n",
    "We include several builtin cosmologies for users, accessible from the :mod:`nbodykit.cosmology` module:\n",
    "\n",
    ".. include:: ../api/builtin-cosmos.rst\n",
    "\n",
    "Updating cosmological parameters\n",
    "^^^^^^^^^^^^^^^^^^^^^^^^^^^^^^^^\n",
    "\n",
    "The :class:`Cosmology` class is immutable. To update cosmological parameters,\n",
    "we provide the following functions:\n",
    "\n",
    "* :func:`~cosmology.Cosmology.clone`: provides a new :class:`Cosmology` object\n",
    "  with only the specified parameters changed; this function accepts any keyword\n",
    "  parameters that can be passed to the :class:`Cosmology` constructor\n",
    "* :func:`~cosmology.Cosmology.match`: provides a new :class:`Cosmology` object\n",
    "  that has matched a specific, derived parameter value. The derived parameters\n",
    "  that can be matched include:\n",
    "\n",
    "  - ``sigma8``: re-scale the scalar amplitude ``A_s`` to match ``sigma8``\n",
    "  - ``Omega0_cb``: match the total sum of cdm and baryons density, :math:`\\Omega_{cdm,0}+\\Omega_{b,0}`\n",
    "  - ``Omega0_m``: match the total density of matter-like components,\n",
    "    :math:`\\Omega_{cdm,0}+\\Omega_{b,0}+\\Omega_{ncdm,0}-\\Omega_{pncdm,0}+\\Omega_{dcdm,0}`\n",
    "    \n",
    "For example, we can match a specific ``sigma8`` value using:"
   ]
  },
  {
   "cell_type": "raw",
   "metadata": {
    "raw_mimetype": "text/latex"
   },
   "source": [
    "$\\Omega_{cdm,0}+\\Omega_{b,0}+\\Omega_{ncdm,0}-\\Omega_{pncdm,0}+\\Omega_{dcdm,0}$"
   ]
  },
  {
   "cell_type": "code",
   "execution_count": 2,
   "metadata": {},
   "outputs": [
    {
     "name": "stdout",
     "output_type": "stream",
     "text": [
      "original sigma8 = 0.8380\n",
      "new sigma8 = 0.8200\n"
     ]
    }
   ],
   "source": [
    "from nbodykit.lab import cosmology\n",
    "\n",
    "cosmo = cosmology.Cosmology()\n",
    "print(\"original sigma8 = %.4f\" % cosmo.sigma8)\n",
    "\n",
    "new_cosmo = cosmo.match(sigma8=0.82)\n",
    "print(\"new sigma8 = %.4f\" % new_cosmo.sigma8)"
   ]
  },
  {
   "cell_type": "raw",
   "metadata": {
    "raw_mimetype": "text/restructuredtext"
   },
   "source": [
    "And we can clone a :class:`Cosmology` using h=0.707, T0_cmb=2.725820831 from `Back to Cosmos, 2019`_"
   ]
  },
  {
   "cell_type": "code",
   "execution_count": 10,
   "metadata": {},
   "outputs": [],
   "source": [
    "cosmo = cosmo.clone(h=0.707, T_cmb=2.725820831, nonlinear=True)"
   ]
  },
  {
   "cell_type": "raw",
   "metadata": {
    "raw_mimetype": "text/restructuredtext"
   },
   "source": [
    "Converting to a dictionary\n",
    "^^^^^^^^^^^^^^^^^^^^^^^^^^\n",
    "\n",
    "The keyword parameters passed to the constructor of a :class:`Cosmology` object are not passed directly to the underlying CLASS engine, but must be edited first to be compatible with CLASS. Users can access the full set of parameters passed directly to CLASS by converting the :class:`Cosmology` object to a dict. This can be accomplished simply using:"
   ]
  },
  {
   "cell_type": "code",
   "execution_count": 11,
   "metadata": {},
   "outputs": [
    {
     "name": "stdout",
     "output_type": "stream",
     "text": [
      "{'output': 'vTk dTk mPk', 'extra metric transfer functions': 'y', 'N_ur': 2.0328, 'gauge': 'synchronous', 'n_s': 0.9667, 'Omega_cdm': 0.26377065934278865, 'Omega_b': 0.0482754208891869, 'N_ncdm': 1, 'P_k_max_h/Mpc': 10.0, 'z_max_pk': 100.0, 'h': 0.707, 'T_cmb': 2.725820831, 'm_ncdm': [0.06], 'non linear': 'halofit'}\n"
     ]
    }
   ],
   "source": [
    "cosmo_dict = dict(cosmo)\n",
    "print(cosmo_dict)"
   ]
  },
  {
   "cell_type": "raw",
   "metadata": {
    "raw_mimetype": "text/restructuredtext"
   },
   "source": [
    "Each of the parameters in this dictionary are valid CLASS parameters. For example, we see that the CLASS parameter \"non linear\" has been set to \"halofit\", since we have set the ``nonlinear`` parameter to be ``True``. \n",
    "\n",
    ".. note::\n",
    "    To create a new :class:`Cosmology` object from a dictionary, users should use \n",
    "    ``Cosmology.from_dict(dict(c))``. Because of the differences in syntax between the :class:`Cosmology` constructor\n",
    "    and CLASS, the following will not work: ``Cosmology(**dict(c))``.\n",
    "    \n",
    "Interfacing with :mod:`astropy`\n",
    "^^^^^^^^^^^^^^^^^^^^^^^^^^^^^^^\n",
    "\n",
    "We provide some comptability for interfacing with the :mod:`astropy.cosmology` module. The following functions\n",
    "of the :func:`~cosmology.Cosmology` class allow users to convert between the nbodykit and :mod:`astropy` cosmology\n",
    "implementations:\n",
    "\n",
    ".. autosummary::\n",
    "\n",
    "    ~cosmology.Cosmology.to_astropy\n",
    "    ~cosmology.Cosmology.from_astropy\n",
    "    \n",
    "We also provide support for some of the syntax used by :mod:`astropy` for attributes in its cosmology classes by aliasing the :mod:`astropy` names to the appropriate nbodykit attributes. For example, \n",
    "\n",
    ".. autosummary::\n",
    "    \n",
    "   ~classylss.astropy_compat.AstropyCompat.Om0\n",
    "   ~classylss.astropy_compat.AstropyCompat.Odm0\n",
    "   ~classylss.astropy_compat.AstropyCompat.Ode0\n",
    "   ~classylss.astropy_compat.AstropyCompat.Ob0\n",
    "\n",
    ".. warning::\n",
    "\n",
    "    The conversion between :mod:`astropy` and nbodykit cosmology objects is not one-to-one, as the classes are\n",
    "    implemented using different underlying engines. For example, the neutrino calculations performed in nbodykit \n",
    "    using CLASS differ from those in :mod:`astropy`. We have attempted to provide as  much compatibility as possible, \n",
    "    but these differences will always remain when converting between the two implementations."
   ]
  },
  {
   "cell_type": "raw",
   "metadata": {
    "collapsed": true,
    "raw_mimetype": "text/restructuredtext"
   },
   "source": [
    "Theoretical Power Spectra\n",
    "-------------------------\n",
    "\n",
    "Linear power\n",
    "^^^^^^^^^^^^\n",
    "\n",
    "The linear power spectrum can be computed for a given :class:`Cosmology` and redshift using the :class:`~power.linear.LinearPower` class. This object can compute the linear power spectrum using one of \n",
    "several transfer functions: \n",
    "\n",
    "- \"CLASS\": calls CLASS to evaluate the total density transfer function at the specified redshift\n",
    "- \"EisensteinHu\": uses the analytic transfer function from `Eisenstein & Hu, 1998`_\n",
    "- \"NoWiggleEisensteinHu\": uses the no-BAO analytic transfer function from `Eisenstein & Hu, 1998`_\n",
    "\n",
    "The :class:`~power.linear.LinearPower` object is a callable function, taking wavenumber in units of :math:`h \\mathrm{Mpc}^{-1}` as input:"
   ]
  },
  {
   "cell_type": "code",
   "execution_count": 12,
   "metadata": {},
   "outputs": [
    {
     "data": {
      "image/png": "[encoded data removed]",
      "text/plain": [
       "<Figure size 432x288 with 1 Axes>"
      ]
     },
     "metadata": {
      "needs_background": "light"
     },
     "output_type": "display_data"
    }
   ],
   "source": [
    "import matplotlib.pyplot as plt\n",
    "import numpy as np\n",
    "\n",
    "c = cosmology.Planck15\n",
    "Plin = cosmology.LinearPower(c, redshift=0., transfer='CLASS')\n",
    "\n",
    "k = np.logspace(-3, 0, 100)\n",
    "plt.loglog(k, Plin(k), c='k')\n",
    "\n",
    "plt.xlabel(r\"$k$ $[h \\mathrm{Mpc}^{-1}]$\")\n",
    "plt.ylabel(r\"$P$ $[h^{-3} \\mathrm{Mpc}^{3}]$\")\n",
    "plt.show()"
   ]
  },
  {
   "cell_type": "raw",
   "metadata": {
    "raw_mimetype": "text/restructuredtext"
   },
   "source": [
    "The redshift and power spectrum normalization can easily be updated by adjusting the ``redshift`` and ``sigma8`` attributes of the :class:`~power.linear.LinearPower` instance. For example,"
   ]
  },
  {
   "cell_type": "code",
   "execution_count": 13,
   "metadata": {},
   "outputs": [
    {
     "data": {
      "image/png": "[encoded data removed]",
      "text/plain": [
       "<Figure size 432x288 with 1 Axes>"
      ]
     },
     "metadata": {
      "needs_background": "light"
     },
     "output_type": "display_data"
    }
   ],
   "source": [
    "# original power\n",
    "plt.loglog(k, Plin(k), label=r\"$z=0, \\sigma_8=%.2f$\" % Plin.sigma8)\n",
    "\n",
    "# update the redshift and sigma8\n",
    "Plin.redshift = 0.55\n",
    "Plin.sigma8 = 0.80\n",
    "plt.loglog(k, Plin(k), label=r\"$z=0.55, \\sigma_8=0.8$\")\n",
    "\n",
    "# format the axes\n",
    "plt.legend()\n",
    "plt.xlabel(r\"$k$ $[h \\mathrm{Mpc}^{-1}]$\")\n",
    "plt.ylabel(r\"$P$ $[h^{-3} \\mathrm{Mpc}^{3}]$\")\n",
    "plt.show()"
   ]
  },
  {
   "cell_type": "raw",
   "metadata": {
    "raw_mimetype": "text/restructuredtext"
   },
   "source": [
    "Nonlinear and Zel'dovich power\n",
    "^^^^^^^^^^^^^^^^^^^^^^^^^^^^^^\n",
    "\n",
    "We also provide the :class:`~power.halofit.HalofitPower` and :class:`~power.zeldovich.ZeldovichPower` classes to compute the nonlinear and Zel'dovich power spectra, respectively. The nonlinear power uses the `HaloFit`_ prescription that is available in CLASS. These objects behavior very similarly to the :class:`~power.linear.LinearPower` class. \n",
    "For example, "
   ]
  },
  {
   "cell_type": "code",
   "execution_count": 14,
   "metadata": {},
   "outputs": [
    {
     "data": {
      "image/png": "[encoded data removed]",
      "text/plain": [
       "<Figure size 432x288 with 1 Axes>"
      ]
     },
     "metadata": {
      "needs_background": "light"
     },
     "output_type": "display_data"
    }
   ],
   "source": [
    "# initialize the power objects\n",
    "Plin = cosmology.LinearPower(c, redshift=0, transfer='CLASS')\n",
    "Pnl = cosmology.HalofitPower(c, redshift=0)\n",
    "Pzel = cosmology.ZeldovichPower(c, redshift=0)\n",
    "\n",
    "# plot each kind\n",
    "plt.loglog(k, Plin(k), label='linear')\n",
    "plt.loglog(k, Pnl(k), label='nonlinear')\n",
    "plt.loglog(k, Pzel(k), label=\"Zel'dovich\")\n",
    "\n",
    "# format the axes\n",
    "plt.legend()\n",
    "plt.xlabel(r\"$k$ $[h \\mathrm{Mpc}^{-1}]$\")\n",
    "plt.ylabel(r\"$P$ $[h^{-3} \\mathrm{Mpc}^{3}]$\")\n",
    "plt.show()"
   ]
  },
  {
   "cell_type": "raw",
   "metadata": {
    "raw_mimetype": "text/restructuredtext"
   },
   "source": [
    "Correlation functions\n",
    "---------------------\n",
    "\n",
    "nbodykit also includes functionality for computing theoretical correlation functions by computing the Fourier transform of a power spectrum. We use the `mcfit`_ package, which provides a Python version of the `FFTLog`_ algorithm. The main class to compute correlation functions is :class:`~correlation.CorrelationFunction`. This class\n",
    "takes a power spectrum instance (one of :class:`~power.linear.LinearPower`, :class:`~power.halofit.HalofitPower`, \n",
    "or :class:`~power.zeldovich.ZeldovichPower`) as input. Below, we show the correlation function for each of these classes: "
   ]
  },
  {
   "cell_type": "code",
   "execution_count": 15,
   "metadata": {},
   "outputs": [
    {
     "data": {
      "image/png": "[encoded data removed]",
      "text/plain": [
       "<Figure size 432x288 with 1 Axes>"
      ]
     },
     "metadata": {
      "needs_background": "light"
     },
     "output_type": "display_data"
    }
   ],
   "source": [
    "# initialize the correlation objects\n",
    "cf_lin = cosmology.CorrelationFunction(Plin)\n",
    "cf_nl = cosmology.CorrelationFunction(Pnl)\n",
    "cf_zel = cosmology.CorrelationFunction(Pzel)\n",
    "\n",
    "# plot each kind\n",
    "r = np.logspace(-1, np.log10(150), 1000)\n",
    "plt.plot(r, r**2 * cf_lin(r), label='linear')\n",
    "plt.plot(r, r**2 * cf_nl(r), label='nonlinear')\n",
    "plt.plot(r, r**2 * cf_zel(r), label=\"Zel'dovich\")\n",
    "\n",
    "# format the axes\n",
    "plt.legend()\n",
    "plt.xlabel(r\"$r$ $[h^{-1} \\mathrm{Mpc}]$\")\n",
    "plt.ylabel(r\"$r^2 \\xi \\ [h^{-2} \\mathrm{Mpc}^2]$\")\n",
    "plt.show()"
   ]
  },
  {
   "cell_type": "raw",
   "metadata": {
    "raw_mimetype": "text/restructuredtext"
   },
   "source": [
    "We also include utility functions for performing the $P(k) \\leftrightarrow \\xi(r)$ transformation: \n",
    "\n",
    ".. autosummary::\n",
    "\n",
    "    ~correlation.xi_to_pk\n",
    "    ~correlation.pk_to_xi\n",
    "    \n",
    "These functions take discretely evaluated :math:`(r, \\xi(r))` or :math:`(k, P(k))` arrays and return a function that evaluates the appropriate transformed quantity. "
   ]
  },
  {
   "cell_type": "raw",
   "metadata": {
    "raw_mimetype": "text/restructuredtext"
   },
   "source": [
    ".. _Halofit: https://arxiv.org/abs/1208.2701\n",
    ".. _explanatory.ini: https://cdn.rawgit.com/lesgourg/class_public/master/explanatory.ini\n",
    ".. _Eisenstein & Hu, 1998: https://arxiv.org/abs/astro-ph/9709112\n",
    ".. _FFTLog: http://casa.colorado.edu/~ajsh/FFTLog/\n",
    ".. _DiracElectron: https://link.springer.com/chapter/10.1007/978-3-319-74582-4_19\n",
    ".. _Back to Cosmos, 2019: http://rxiv.org/abs/1904.0218\n",
    ".. _Kritov: https://books.google.com/books?id=6TI7DwAAQBAJ\n",
    ".. _mcfit: https://github.com/eelregit/mcfit"
   ]
  }
 ],
 "metadata": {
  "celltoolbar": "Raw Cell Format",
  "kernelspec": {
   "display_name": "Python 3",
   "language": "python",
   "name": "python3"
  },
  "language_info": {
   "codemirror_mode": {
    "name": "ipython",
    "version": 3
   },
   "file_extension": ".py",
   "mimetype": "text/x-python",
   "name": "python",
   "nbconvert_exporter": "python",
   "pygments_lexer": "ipython3",
   "version": "3.7.3"
  }
 },
 "nbformat": 4,
 "nbformat_minor": 2
}
